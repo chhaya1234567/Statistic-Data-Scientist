{
 "cells": [
  {
   "cell_type": "markdown",
   "id": "1a32402e-3218-4601-ac74-62cf8ded7c50",
   "metadata": {},
   "source": [
    "## Q1. What is the Probability density function?"
   ]
  },
  {
   "cell_type": "markdown",
   "id": "9c3d9013-c8e0-4fcc-95d2-84d0d1c372a3",
   "metadata": {},
   "source": [
    "#### Probability density function (PDF) is a mathematical function that describes the probability distribution of a continuous random variable. In other words, it is a function that gives the probability density at any point in the range of possible values of a continuous random variable.\n",
    "\n",
    "#### The PDF is defined as the derivative of the cumulative distribution function (CDF) with respect to the variable of interest. In mathematical notation, the PDF of a continuous random variable X is denoted by f(x) and is given by:\n",
    "\n",
    "#### f(x) = d/dx F(x)\n",
    "\n",
    "#### where F(x) is the CDF of X.\n",
    "\n",
    "#### The PDF has the following properties:\n",
    "\n",
    "#### The PDF is always non-negative: f(x) >= 0 for all x. The total area under the PDF curve is equal to 1: ∫f(x)dx = 1, where the integral is taken over the entire range of X. The probability that X lies within a certain interval [a, b] is given by the area under the PDF curve between a and b: P(a <= X <= b) = ∫[a,b]f(x)dx. The PDF is an important concept in probability theory and is used extensively in fields such as statistics, physics, engineering, and finance. It provides a way to model and analyze the behavior of continuous random variables and is a key tool for understanding complex systems."
   ]
  },
  {
   "cell_type": "markdown",
   "id": "99f7dee3-dffd-4a20-84ab-eca342ea999d",
   "metadata": {},
   "source": [
    "## Q2. What are the types of Probability distribution?"
   ]
  },
  {
   "cell_type": "markdown",
   "id": "80c720ad-d451-4d37-bcdb-083e8d7cee29",
   "metadata": {},
   "source": [
    "#### some types of probability distribution are :\n",
    "\n",
    "#### 1.Normal or Gaussian Distribution : Specifically belongs to PDF.\n",
    "\n",
    "#### 2.Bernoulli Disttibution (PMF)\n",
    "\n",
    "#### 3.Uniform Distribution\n",
    "\n",
    "#### 4.log Normal distibution (PDF)\n",
    "\n",
    "#### 5.Poisson Distribution (PMF)\n",
    "\n",
    "#### 6.Power Law Distibution (PDF)\n",
    "\n",
    "#### 7.Binomial Distibution (PMF)"
   ]
  },
  {
   "cell_type": "markdown",
   "id": "93646945-4039-420a-a06e-af89a88ca120",
   "metadata": {},
   "source": [
    "## Q3. Write a Python function to calculate the probability density function of a normal distribution with given mean and standard deviation at a given point."
   ]
  },
  {
   "cell_type": "code",
   "execution_count": 4,
   "id": "93d9f7d2-c390-489c-95c8-5792de1d8f37",
   "metadata": {},
   "outputs": [
    {
     "name": "stdout",
     "output_type": "stream",
     "text": [
      "0.0804410163156249\n"
     ]
    }
   ],
   "source": [
    "from scipy.stats import norm\n",
    "import numpy as np\n",
    "\n",
    "data_start = -5\n",
    "data_end = 5\n",
    "data_points = 11\n",
    "data = np.linspace(data_start, data_end, data_points)\n",
    "\n",
    "mean = np.mean(data)\n",
    "std = np.std(data)\n",
    "\n",
    "probability_pdf = norm.pdf(3, loc=mean, scale=std)\n",
    "print(probability_pdf)"
   ]
  },
  {
   "cell_type": "markdown",
   "id": "3d3a5d29-19b2-400c-8811-f665e7ea4368",
   "metadata": {},
   "source": [
    "## Q4. What are the properties of Binomial distribution? Give two examples of events where binomial distribution can be applied."
   ]
  },
  {
   "cell_type": "markdown",
   "id": "3ce1e9c8-ebf6-4c33-a81f-eb92704211eb",
   "metadata": {},
   "source": [
    "#### Binomial distribution is a probability distribution that describes the number of successes in a fixed number of independent Bernoulli trials, where each trial has only two possible outcomes (success or failure), and the probability of success remains constant across all trials. Some properties of binomial distribution are:\n",
    "\n",
    "#### The number of trials is fixed, denoted by n. Each trial is independent of all the other trials. The probability of success in each trial is constant, denoted by p. The probability of failure in each trial is 1-p. The random variable X, which represents the number of successes in n trials, follows a binomial distribution. Two examples of events where binomial distribution can be applied are:\n",
    "\n",
    "#### Tossing a coin: Suppose you toss a fair coin 10 times and you want to find the probability of getting exactly 6 heads. Each toss of the coin can be considered a Bernoulli trial, where success is defined as getting a head and failure is defined as getting a tail. The probability of success in each trial is p=0.5 (assuming a fair coin). Using the binomial distribution, we can calculate the probability of getting exactly 6 heads in 10 tosses.\n",
    "\n",
    "#### Manufacturing defects: Suppose a manufacturing process produces items that are either defective or non-defective. Let's say that 10% of the items produced are defective. If we randomly select 20 items from the production line, we can use the binomial distribution to calculate the probability of getting a certain number of defective items. For example, we can calculate the probability of getting exactly 2 defective items out of 20 selected."
   ]
  },
  {
   "cell_type": "markdown",
   "id": "9f29293c-ed8d-46fc-b817-b9ddb392288f",
   "metadata": {},
   "source": [
    "## Q5. Generate a random sample of size 1000 from a binomial distribution with probability of success 0.4 and plot a histogram of the results using matplotlib."
   ]
  },
  {
   "cell_type": "code",
   "execution_count": 3,
   "id": "b7794e45-8ad5-4da2-9cca-c8cd45e1d5ca",
   "metadata": {},
   "outputs": [
    {
     "data": {
      "image/png": "[encoded data removed]",
      "text/plain": [
       "<Figure size 640x480 with 1 Axes>"
      ]
     },
     "metadata": {},
     "output_type": "display_data"
    }
   ],
   "source": [
    "import numpy as np\n",
    "import matplotlib.pyplot as plt\n",
    "\n",
    "n = 1000\n",
    "p = 0.4\n",
    "sample = np.random.binomial(n, p, size=n)\n",
    "\n",
    "# Plot a histogram of the sample using Matplotlib\n",
    "plt.hist(sample, bins=20, density=True, alpha=0.7)\n",
    "plt.xlabel('Number of Successes')\n",
    "plt.ylabel('Probability Density')\n",
    "plt.title('Histogram of Random Sample from Binomial Distribution')\n",
    "plt.show()"
   ]
  },
  {
   "cell_type": "markdown",
   "id": "b1c9c61c-2b8e-48a6-8ff8-19a4d6e318cc",
   "metadata": {},
   "source": [
    "## Q6. Write a Python function to calculate the cumulative distribution function of a Poisson distribution with given mean at a given point."
   ]
  },
  {
   "cell_type": "code",
   "execution_count": 2,
   "id": "767eb81b-2efb-4b2c-aa49-32285f4bbc01",
   "metadata": {},
   "outputs": [
    {
     "name": "stdout",
     "output_type": "stream",
     "text": [
      "0.9473469826562889\n"
     ]
    }
   ],
   "source": [
    "from scipy.stats import poisson\n",
    "\n",
    "def poisson_cdf(mean, point):\n",
    "    cdf = poisson.cdf(point, mu=mean)\n",
    "    return cdf\n",
    "result = poisson_cdf(2, 4)\n",
    "print(result)"
   ]
  },
  {
   "cell_type": "markdown",
   "id": "8e9a7ac7-b857-4a79-aa59-0b34da86ce7c",
   "metadata": {},
   "source": [
    "## Q7. How Binomial distribution different from Poisson distribution?"
   ]
  },
  {
   "cell_type": "markdown",
   "id": "8456b693-d7e3-40a6-ab82-6091c86cb8d6",
   "metadata": {},
   "source": [
    "#### Binomial distribution describes the distribution of binary data from a finite sample. Thus it gives the probability of getting r events out of n trials. Poisson distribution describes the distribution of binary data from an infinite sample. Thus it gives the probability of getting r events in a population.\n",
    "\n",
    "#### The main difference between the binomial distribution and the Poisson distribution is the number of trials or observations. The binomial distribution models the number of successes in a fixed number of independent trials, while the Poisson distribution models the number of rare events in a fixed interval of time or space.\n",
    "\n",
    "#### More specifically, the binomial distribution is used when there are a fixed number of independent trials or observations, each with the same probability of success, and we want to model the number of successes in those trials. The probability of success remains constant throughout the trials and the trials are independent of each other. Examples of events where the binomial distribution is applicable are coin tosses, where the probability of getting heads remains the same for each toss.\n",
    "\n",
    "#### On the other hand, the Poisson distribution is used when the events occur randomly in a fixed interval of time or space, and the occurrence of one event does not affect the occurrence of another. The probability of an event occurring in any given interval of time or space is proportional to the length of the interval, and the occurrence of one event is independent of the occurrence of other events. Examples of events where the Poisson distribution is applicable are the number of car accidents in a day, number of customers visiting a store in a day etc.\n",
    "\n",
    "#### In summary, the binomial distribution is used to model the number of successes in a fixed number of independent trials, while the Poisson distribution is used to model the number of rare events in a fixed interval of time or space."
   ]
  },
  {
   "cell_type": "markdown",
   "id": "772edb51-030e-4e54-860c-aaa0dfba0c9c",
   "metadata": {},
   "source": [
    "## Q8. Generate a random sample of size 1000 from a Poisson distribution with mean 5 and calculate the sample mean and variance."
   ]
  },
  {
   "cell_type": "code",
   "execution_count": 1,
   "id": "0aec946f-f323-46a1-9459-16473dd80844",
   "metadata": {},
   "outputs": [
    {
     "name": "stdout",
     "output_type": "stream",
     "text": [
      "Sample mean: 4.985\n",
      "Sample variance: 4.9967749999999995\n"
     ]
    }
   ],
   "source": [
    "import numpy as np\n",
    "from scipy.stats import poisson\n",
    "\n",
    "# Generate random sample of size 1000 from Poisson distribution with mean 5\n",
    "sample = poisson.rvs(mu=5, size=1000, random_state=42)\n",
    "\n",
    "# Calculate sample mean and variance\n",
    "sample_mean = np.mean(sample)\n",
    "sample_variance = np.var(sample)\n",
    "\n",
    "print(\"Sample mean:\", sample_mean)\n",
    "print(\"Sample variance:\", sample_variance)"
   ]
  },
  {
   "cell_type": "markdown",
   "id": "48672c89-d98a-42bc-ac7c-6004ae554357",
   "metadata": {},
   "source": [
    "## Q9. How mean and variance are related in Binomial distribution and Poisson distribution?"
   ]
  },
  {
   "cell_type": "markdown",
   "id": "945c82c1-0b47-4024-9fe9-0f006949a15f",
   "metadata": {},
   "source": [
    "#### In the binomial distribution, the mean is given by n * p, where n is the number of trials and p is the probability of success in each trial. The variance is given by n * p * (1 - p). Therefore, the mean and variance of a binomial distribution are directly proportional to each other, with the variance being largest when p=0.5.\n",
    "\n",
    "#### In the Poisson distribution, the mean is also equal to the variance, i.e., lambda, where lambda is the average number of occurrences per unit of time or space. Therefore, the mean and variance of a Poisson distribution are equal and are directly proportional to each other.\n",
    "\n",
    "#### The relationship between mean and variance in both binomial and Poisson distributions is important in understanding the shape of the probability distribution. For example, when the variance is much smaller than the mean, the distribution is more concentrated around the mean, and the shape of the distribution is more narrow and peaked. Conversely, when the variance is much larger than the mean, the distribution is more spread out, and the shape of the distribution is more flat and wide.\n",
    "\n"
   ]
  },
  {
   "cell_type": "markdown",
   "id": "fa3a145d-618f-444b-abe6-8b4900a6be05",
   "metadata": {},
   "source": [
    "## Q10. In normal distribution with respect to mean position, where does the least frequent data appear?"
   ]
  },
  {
   "cell_type": "markdown",
   "id": "0c507bea-aa50-49cc-8ab0-255b6e122f9a",
   "metadata": {},
   "source": [
    "#### In a normal distribution, the probability density function (PDF) is symmetric around the mean. Therefore, the least frequent data would appear at the points farthest away from the mean. Specifically, the points where the PDF drops off the most rapidly are located at a distance of one standard deviation from the mean in either direction, and the least frequent data would appear at points that are farther away than that.\n",
    "\n",
    "#### For example, in a standard normal distribution (i.e., a normal distribution with mean 0 and standard deviation 1), the least frequent data would appear at the points that are more than 3 standard deviations away from the mean (i.e., at values less than -3 or greater than +3). These extreme values are referred to as \"outliers\" and are typically rare occurrences in most datasets."
   ]
  },
  {
   "cell_type": "code",
   "execution_count": null,
   "id": "a690a6a8-8fff-4baf-a1e2-c2151e801d79",
   "metadata": {},
   "outputs": [],
   "source": []
  }
 ],
 "metadata": {
  "kernelspec": {
   "display_name": "Python 3 (ipykernel)",
   "language": "python",
   "name": "python3"
  },
  "language_info": {
   "codemirror_mode": {
    "name": "ipython",
    "version": 3
   },
   "file_extension": ".py",
   "mimetype": "text/x-python",
   "name": "python",
   "nbconvert_exporter": "python",
   "pygments_lexer": "ipython3",
   "version": "3.10.8"
  }
 },
 "nbformat": 4,
 "nbformat_minor": 5
}
