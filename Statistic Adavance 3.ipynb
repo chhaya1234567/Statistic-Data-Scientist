{
 "cells": [
  {
   "cell_type": "markdown",
   "id": "2e2457e7-9ce8-4357-9b1a-de474f396820",
   "metadata": {},
   "source": [
    "## Q1: What is Estimation Statistics? Explain point estimate and interval estimate."
   ]
  },
  {
   "cell_type": "markdown",
   "id": "19e14033-809c-4cab-b423-86c54653c8ec",
   "metadata": {},
   "source": [
    "#### Estimation statistics is a branch of statistics that deals with estimating the value of a population parameter based on a sample statistic. The goal of estimation is to use the information obtained from a sample to make inferences about the population from which the sample was drawn.\n",
    "\n",
    "#### There are two types of estimation in statistics: point estimation and interval estimation.\n",
    "\n",
    "#### Point estimate is a single value that is used to estimate the unknown parameter of the population. It is calculated using a sample statistic, such as the sample mean or sample proportion, and is used to estimate the corresponding population parameter, such as the population mean or population proportion.\n",
    "\n",
    "#### For example, suppose we want to estimate the average height of adult males in a population. We take a sample of 100 men and calculate their average height, which is 175 cm. This sample mean of 175 cm is a point estimate of the population mean.\n",
    "\n",
    "#### Interval estimate, on the other hand, is a range of values that is used to estimate the unknown parameter of the population. It is calculated using the sample statistic and taking into account the variability of the sample. The range of values is called a confidence interval and provides a measure of how much uncertainty there is in the estimation.\n",
    "\n",
    "#### For example, if we want to estimate the average height of adult males in a population with 95% confidence, we would calculate a confidence interval around the point estimate. Suppose the confidence interval is (170 cm, 180 cm). This means that we are 95% confident that the true population mean height is between 170 cm and 180 cm.\n",
    "\n",
    "#### In summary, point estimate is a single value used to estimate an unknown parameter of a population, while interval estimate is a range of values used to estimate the unknown parameter, taking into account the variability of the sample."
   ]
  },
  {
   "cell_type": "markdown",
   "id": "50538068-afa0-4a0f-bd26-4890e3c1aa7a",
   "metadata": {},
   "source": [
    "## Q2. Write a Python function to estimate the population mean using a sample mean and standard deviation."
   ]
  },
  {
   "cell_type": "code",
   "execution_count": 8,
   "id": "ea5d7883-fc0e-40ed-b198-9695c8830c15",
   "metadata": {},
   "outputs": [
    {
     "data": {
      "text/plain": [
       "2.5"
      ]
     },
     "execution_count": 8,
     "metadata": {},
     "output_type": "execute_result"
    }
   ],
   "source": [
    "import math\n",
    "\n",
    "def estimate_population_mean(sample_mean, sample_std, sample_size):\n",
    "    \n",
    "    # Calculate the standard error\n",
    "    standard_error = sample_std / math.sqrt(sample_size)\n",
    "    \n",
    "    # Calculate the margin of error (using a 95% confidence level)\n",
    "    margin_of_error = 1.96 * standard_error\n",
    "    \n",
    "    # Calculate the lower and upper bounds of the confidence interval\n",
    "    lower_bound = sample_mean - margin_of_error\n",
    "    upper_bound = sample_mean + margin_of_error\n",
    "    \n",
    "    # Return the estimated population mean\n",
    "    return (lower_bound + upper_bound) / 2\n",
    "a=estimate_population_mean(2.5,1.5,40)\n",
    "a"
   ]
  },
  {
   "cell_type": "markdown",
   "id": "4f06c8b5-9495-420c-be34-a22c041c2ab1",
   "metadata": {},
   "source": [
    "## Q3: What is Hypothesis testing? Why is it used? State the importance of Hypothesis testing."
   ]
  },
  {
   "cell_type": "markdown",
   "id": "ac3e5d72-81f2-455c-acd9-a818f8a90027",
   "metadata": {},
   "source": [
    "#### Hypothesis testing is a statistical method used to make inferences about population parameters based on sample data. The method involves formulating two hypotheses: the null hypothesis (H0) and the alternative hypothesis (Ha). The null hypothesis is typically the hypothesis of no difference or no effect, while the alternative hypothesis is the opposite.\n",
    "\n",
    "#### The goal of hypothesis testing is to determine whether the observed sample data provide enough evidence to reject the null hypothesis in favor of the alternative hypothesis. This is done by calculating a test statistic from the sample data and comparing it to a critical value from a probability distribution. If the test statistic is greater than the critical value, the null hypothesis is rejected; otherwise, it is not rejected.\n",
    "\n",
    "#### Hypothesis testing is used to make decisions based on data and to test theories or hypotheses about the population. It is commonly used in scientific research, quality control, marketing research, and many other fields to answer questions such as:\n",
    "\n",
    "#### Does a new drug have a significant effect on reducing the symptoms of a disease? Is a new manufacturing process producing products that meet quality standards? Is a marketing campaign increasing sales of a product? The importance of hypothesis testing lies in its ability to provide a systematic and objective approach to decision making based on data. It allows researchers to draw conclusions about a population based on a sample, while taking into account the variability and uncertainty inherent in statistical inference.\n",
    "\n",
    "#### By using hypothesis testing, researchers can avoid making decisions based on subjective opinions or intuition, and instead make decisions based on empirical evidence. Additionally, it provides a framework for evaluating the significance of results and for making generalizations from sample data to a larger population."
   ]
  },
  {
   "cell_type": "markdown",
   "id": "317fc242-2710-4972-9169-b476ee50afcb",
   "metadata": {},
   "source": [
    "## Q4. Create a hypothesis that states whether the average weight of male college students is greater than the average weight of female college students."
   ]
  },
  {
   "cell_type": "markdown",
   "id": "8e97df01-dd6e-436b-9fa3-517f1f33dd4d",
   "metadata": {},
   "source": [
    "####  hypothesis that compares the average weight of male college students to the average weight of female college students:\n",
    "\n",
    "#### Null Hypothesis: The average weight of male college students is equal to or less than the average weight of female college students.\n",
    "\n",
    "#### Alternative Hypothesis: The average weight of male college students is greater than the average weight of female college students.\n",
    "\n",
    "#### In this case, we are comparing the population mean weight of male college students to the population mean weight of female college students. The null hypothesis states that there is no significant difference in the mean weight between the two groups, while the alternative hypothesis states that there is a significant difference, specifically that male college students have a greater average weight than female college students.\n",
    "\n",
    "#### This hypothesis could be tested by collecting a random sample of male and female college students and calculating the sample means and standard deviations of their weights. A hypothesis test could then be performed to determine whether the sample data provide enough evidence to reject the null hypothesis in favor of the alternative hypothesis."
   ]
  },
  {
   "cell_type": "code",
   "execution_count": null,
   "id": "f5bb763e-4030-4a56-b32a-b1a7c817e3a9",
   "metadata": {},
   "outputs": [],
   "source": [
    "import pandas as pd\n",
    "import scipy.stats as stats\n",
    "\n",
    "# Load data into a pandas DataFrame\n",
    "data = pd.read_csv('student_weights.csv')\n",
    "\n",
    "# Separate data into male and female groups\n",
    "male_data = data[data['Gender'] == 'Male']\n",
    "female_data = data[data['Gender'] == 'Female']\n",
    "\n",
    "# Calculate sample means and standard deviations\n",
    "male_mean = male_data['Weight'].mean()\n",
    "male_std = male_data['Weight'].std()\n",
    "female_mean = female_data['Weight'].mean()\n",
    "female_std = female_data['Weight'].std()\n",
    "\n",
    "# Set significance level and perform t-test\n",
    "alpha = 0.05\n",
    "t_stat, p_val = stats.ttest_ind_from_stats(male_mean, male_std, len(male_data), female_mean, female_std, len(female_data))\n",
    "\n",
    "# Check if p-value is less than alpha\n",
    "if p_val < alpha:\n",
    "    print(\"Reject null hypothesis.\")\n",
    "else:\n",
    "    print(\"Fail to reject null hypothesis.\")"
   ]
  },
  {
   "cell_type": "markdown",
   "id": "5510b8ad-f23c-4250-bd20-064deeef19f3",
   "metadata": {},
   "source": [
    "## Q5. Write a Python script to conduct a hypothesis test on the difference between two population means, given a sample from each population."
   ]
  },
  {
   "cell_type": "code",
   "execution_count": 9,
   "id": "6ce35721-4d91-42d0-ab6d-c2473d73c1fa",
   "metadata": {},
   "outputs": [
    {
     "name": "stdout",
     "output_type": "stream",
     "text": [
      "Reject null hypothesis. There is sufficient evidence to suggest that the population means are different.\n"
     ]
    }
   ],
   "source": [
    "import numpy as np\n",
    "import scipy.stats as stats\n",
    "\n",
    "\n",
    "alpha = 0.05\n",
    "\n",
    "# Generate random data for two populations\n",
    "pop1 = np.random.normal(loc=10, scale=2, size=1000)\n",
    "pop2 = np.random.normal(loc=12, scale=2, size=1000)\n",
    "\n",
    "# Take random samples from each population\n",
    "sample1 = np.random.choice(pop1, size=100, replace=True)\n",
    "sample2 = np.random.choice(pop2, size=100, replace=True)\n",
    "\n",
    "# Calculate sample means and standard deviations\n",
    "mean1 = np.mean(sample1)\n",
    "std1 = np.std(sample1, ddof=1)\n",
    "mean2 = np.mean(sample2)\n",
    "std2 = np.std(sample2, ddof=1)\n",
    "\n",
    "# Calculate pooled standard deviation and degrees of freedom\n",
    "s_pool = np.sqrt(((len(sample1)-1)*std1**2 + (len(sample2)-1)*std2**2) / (len(sample1) + len(sample2) - 2))\n",
    "df = len(sample1) + len(sample2) - 2\n",
    "\n",
    "# Calculate t-statistic and p-value\n",
    "t_stat = (mean1 - mean2) / (s_pool * np.sqrt(1/len(sample1) + 1/len(sample2)))\n",
    "p_val = stats.t.sf(np.abs(t_stat), df) * 2\n",
    "\n",
    "# Print results of hypothesis test\n",
    "if p_val < alpha:\n",
    "    print(\"Reject null hypothesis. There is sufficient evidence to suggest that the population means are different.\")\n",
    "else:\n",
    "    print(\"Fail to reject null hypothesis. There is not enough evidence to suggest that the population means are different.\")"
   ]
  },
  {
   "cell_type": "markdown",
   "id": "e7a4bca6-e48b-46a5-aeb3-71c5cc9a7ed1",
   "metadata": {},
   "source": [
    "## Q6: What is a null and alternative hypothesis? Give some examples."
   ]
  },
  {
   "cell_type": "markdown",
   "id": "405c11f5-3f03-449c-8c57-2cb005760144",
   "metadata": {},
   "source": [
    "#### In hypothesis testing, the null hypothesis (H0) is a statement or assumption that the researcher wants to test, while the alternative hypothesis (Ha) is the statement that the researcher wants to support if the null hypothesis is rejected. The null hypothesis often represents the default position or the status quo, while the alternative hypothesis represents a new or different position.\n",
    "\n",
    "#### Some examples of null and alternative hypotheses are:\n",
    "\n",
    "#### Null hypothesis: The mean score of students on a test is 70. Alternative hypothesis: The mean score of students on a test is not 70. Null hypothesis: The mean weight of apples produced by a farm is 150 grams. Alternative hypothesis: The mean weight of apples produced by a farm is greater than 150 grams. Null hypothesis: There is no relationship between smoking and lung cancer. Alternative hypothesis: There is a positive relationship between smoking and lung cancer. Null hypothesis: A new medicine has no effect on blood pressure. Alternative hypothesis: A new medicine lowers blood pressure. Null hypothesis: There is no difference in sales between two different advertising campaigns. Alternative hypothesis: One advertising campaign results in higher sales than the other. Note that the null hypothesis always includes a statement of equality, while the alternative hypothesis can be either one-tailed (specifying a direction of effect) or two-tailed (not specifying a direction of effect)."
   ]
  },
  {
   "cell_type": "markdown",
   "id": "429df2f6-fed9-455f-b8d0-1830f08966a6",
   "metadata": {},
   "source": [
    "## Q7: Write down the steps involved in hypothesis testing."
   ]
  },
  {
   "cell_type": "markdown",
   "id": "2272682d-abf4-4eb6-9b15-7d4123b01f5b",
   "metadata": {},
   "source": [
    "#### The steps involved in hypothesis testing are:\n",
    "\n",
    "#### State the null and alternative hypotheses: The first step is to clearly state the null and alternative hypotheses based on the research question and the nature of the data. The null hypothesis represents the status quo or the default position, while the alternative hypothesis represents the new or different position that the researcher is interested in.\n",
    "\n",
    "#### Determine the level of significance (alpha): The level of significance, also known as alpha, is the probability of rejecting the null hypothesis when it is actually true. It is typically set at 0.05 or 0.01, but can be adjusted based on the nature of the research question and the consequences of making a Type I error (rejecting the null hypothesis when it is actually true).\n",
    "\n",
    "#### Choose the appropriate test statistic: The choice of test statistic depends on the nature of the data and the hypothesis being tested. Common test statistics include t-tests, ANOVA, chi-square tests, and correlation coefficients.\n",
    "\n",
    "#### Calculate the p-value: The p-value is the probability of observing a test statistic as extreme or more extreme than the one obtained from the sample, assuming that the null hypothesis is true. If the p-value is less than the level of significance, the null hypothesis is rejected in favor of the alternative hypothesis.\n",
    "\n",
    "#### Draw conclusions and make recommendations: Based on the results of the hypothesis test, the researcher can draw conclusions and make recommendations about the research question. If the null hypothesis is rejected, the researcher can conclude that there is evidence to support the alternative hypothesis. If the null hypothesis is not rejected, the researcher can conclude that there is not enough evidence to support the alternative hypothesis. It is important to consider the limitations of the study and the implications of the results for future research or practical applications.\n",
    "\n",
    "#### Check assumptions and verify results: Finally, it is important to check the assumptions of the hypothesis test and verify the results to ensure that they are valid and reliable. This may involve checking for outliers, assessing the normality and homogeneity of the data, and testing for the presence of confounding variables or other sources of bias."
   ]
  },
  {
   "cell_type": "markdown",
   "id": "b3777417-4209-4f4d-ad5e-db297e292e40",
   "metadata": {},
   "source": [
    "## Q8. Define p-value and explain its significance in hypothesis testing."
   ]
  },
  {
   "cell_type": "markdown",
   "id": "8c5beb03-d348-4ae2-8bc2-fa3e1459aea4",
   "metadata": {},
   "source": [
    "#### In hypothesis testing, the p-value is the probability of observing a test statistic as extreme or more extreme than the one obtained from the sample, assuming that the null hypothesis is true. The p-value is a measure of the strength of evidence against the null hypothesis and is used to determine whether to reject or fail to reject the null hypothesis.\n",
    "\n",
    "#### If the p-value is less than or equal to the level of significance (usually set at 0.05 or 0.01), the null hypothesis is rejected in favor of the alternative hypothesis, indicating that there is strong evidence against the null hypothesis. Conversely, if the p-value is greater than the level of significance, the null hypothesis is not rejected, indicating that there is not enough evidence to support the alternative hypothesis.\n",
    "\n",
    "#### The significance of the p-value lies in its ability to quantify the strength of evidence against the null hypothesis. A small p-value (e.g., less than 0.05) indicates strong evidence against the null hypothesis, while a large p-value (e.g., greater than 0.05) indicates weak evidence against the null hypothesis. Therefore, the p-value can help researchers make decisions about the statistical significance of their findings and the validity of their conclusions.\n",
    "\n",
    "#### It is important to note that the p-value does not directly measure the magnitude or practical significance of the effect being tested, and it does not provide information about the direction of the effect. Therefore, it should be used in conjunction with other measures of effect size and practical significance when interpreting the results of a hypothesis test."
   ]
  },
  {
   "cell_type": "markdown",
   "id": "d7ce00d6-861f-4804-a349-1daa5ef91e69",
   "metadata": {},
   "source": [
    "## Q9. Generate a Student's t-distribution plot using Python's matplotlib library, with the degrees of freedom parameter set to 10."
   ]
  },
  {
   "cell_type": "code",
   "execution_count": 11,
   "id": "b2734aeb-64a0-4459-884f-7bbff92d8217",
   "metadata": {},
   "outputs": [
    {
     "data": {
      "image/png": "[encoded data removed]",
      "text/plain": [
       "<Figure size 640x480 with 1 Axes>"
      ]
     },
     "metadata": {},
     "output_type": "display_data"
    }
   ],
   "source": [
    "import matplotlib.pyplot as plt\n",
    "import numpy as np\n",
    "from scipy.stats import t\n",
    "\n",
    "df = 10  # degrees of freedom\n",
    "\n",
    "x = np.linspace(t.ppf(0.001, df), t.ppf(0.999, df), 100)\n",
    "y = t.pdf(x, df)\n",
    "\n",
    "plt.plot(x, y)\n",
    "plt.title(\"Student's t-distribution with df = 10\")\n",
    "plt.xlabel('x')\n",
    "plt.ylabel('Probability density')\n",
    "plt.show()"
   ]
  },
  {
   "cell_type": "markdown",
   "id": "a86f128d-e415-430c-bbd7-f71444527b9b",
   "metadata": {},
   "source": [
    "## Q10. Write a Python program to calculate the two-sample t-test for independent samples, given two random samples of equal size and a null hypothesis that the population means are equal."
   ]
  },
  {
   "cell_type": "code",
   "execution_count": 12,
   "id": "a72afe74-64bd-4e26-96b3-5b7c143e1570",
   "metadata": {},
   "outputs": [
    {
     "name": "stdout",
     "output_type": "stream",
     "text": [
      "Sample 1 mean: 10.07, standard deviation: 1.99\n",
      "Sample 2 mean: 11.90, standard deviation: 1.96\n",
      "t-statistic: -6.52, p-value: 0.0000\n"
     ]
    }
   ],
   "source": [
    "import numpy as np\n",
    "from scipy.stats import ttest_ind\n",
    "\n",
    "# Generate two random samples of equal size\n",
    "np.random.seed(1234)\n",
    "sample1 = np.random.normal(loc=10, scale=2, size=100)\n",
    "sample2 = np.random.normal(loc=12, scale=2, size=100)\n",
    "\n",
    "# Calculate the two-sample t-test\n",
    "t_stat, p_val = ttest_ind(sample1, sample2)\n",
    "\n",
    "# Print the results\n",
    "print(\"Sample 1 mean: {:.2f}, standard deviation: {:.2f}\".format(np.mean(sample1), np.std(sample1)))\n",
    "print(\"Sample 2 mean: {:.2f}, standard deviation: {:.2f}\".format(np.mean(sample2), np.std(sample2)))\n",
    "print(\"t-statistic: {:.2f}, p-value: {:.4f}\".format(t_stat, p_val))"
   ]
  },
  {
   "cell_type": "markdown",
   "id": "154b7b58-3446-4e82-afdc-1e4dbf21c7df",
   "metadata": {},
   "source": [
    "## Q11: What is Student’s t distribution? When to use the t-Distribution."
   ]
  },
  {
   "cell_type": "markdown",
   "id": "5fe0f622-3b4e-4343-92fd-38a2d46547b6",
   "metadata": {},
   "source": [
    "#### Student's t-distribution is a probability distribution that is used in hypothesis testing when the sample size is small or when the population standard deviation is unknown. It is a type of probability distribution that is similar to the normal distribution but has heavier tails.\n",
    "\n",
    "#### The t-distribution is a family of distributions, with the shape of the distribution depending on the degrees of freedom (df). The degrees of freedom parameter is related to the sample size and the number of parameters estimated from the sample.\n",
    "\n",
    "#### When to use the t-distribution:\n",
    "\n",
    "#### When the sample size is small (less than 30) and the population standard deviation is unknown.\n",
    "\n",
    "#### When the population is normally distributed and the sample size is large (greater than or equal to 30), the t-distribution can be used as an approximation to the normal distribution.\n",
    "\n",
    "#### When comparing means of two populations with small sample sizes, the t-test can be used instead of the z-test.\n",
    "\n",
    "#### Overall, the t-distribution is an important tool in statistics for making inferences about population means when the sample size is small or the population standard deviation is unknown. It allows for the calculation of confidence intervals and hypothesis tests that take into account the uncertainty associated with small sample sizes."
   ]
  },
  {
   "cell_type": "markdown",
   "id": "50652043-d741-4e72-947e-0ca16d2cee13",
   "metadata": {},
   "source": [
    "## Q12: What is t-statistic? State the formula for t-statistic."
   ]
  },
  {
   "cell_type": "markdown",
   "id": "2dbb240f-f1c0-4abb-8fc0-1b5dc0603611",
   "metadata": {},
   "source": [
    " #### t-statistic is a measure that is used in hypothesis testing to determine whether the difference between two sample means is significant or not. It is calculated by comparing the difference between the two sample means to the variability of the data.\n",
    "\n",
    "#### The formula for t-statistic is:\n",
    "\n",
    "#### t = (x1 - x2) / (s * sqrt(2/n))\n",
    "\n",
    "#### where:\n",
    "\n",
    "#### x1 and x2 are the means of two independent samples s is the pooled standard deviation of the two samples n is the sample size The t-statistic measures how many standard errors the difference between the sample means is away from zero. A larger t-statistic indicates that the difference between the sample means is more significant, and a smaller t-statistic indicates that the difference is less significant.\n",
    "\n",
    "#### The t-statistic is compared to a critical value from the t-distribution, with the degrees of freedom determined by the sample size and the assumption of equal variances. If the calculated t-statistic is greater than the critical value, we reject the null hypothesis and conclude that the difference between the sample means is significant."
   ]
  },
  {
   "cell_type": "markdown",
   "id": "979668fc-7795-4a68-8311-9e0bc1b1aa1f",
   "metadata": {},
   "source": [
    "## Q13. A coffee shop owner wants to estimate the average daily revenue for their shop. They take a random sample of 50 days and find the sample mean revenue to be 500 with a standard deviation of 50. Estimate the population mean revenue with a 95% confidence interval."
   ]
  },
  {
   "cell_type": "markdown",
   "id": "6d2993ad-c21e-4971-9997-aaa5b80e4ecf",
   "metadata": {},
   "source": [
    "#### To estimate the population mean revenue with a 95% confidence interval, we can use the following formula:\n",
    "\n",
    "#### Confidence interval = sample mean ± t*(standard error)\n",
    "\n",
    "#### where:\n",
    "\n",
    "#### sample mean = 500(given in the problem)t= the critical t-value for a 95 standard error= standard deviation/sqrt(sample size)=\n",
    "#### 50 / sqrt(50) = $7.07 To find the critical t-value, we can use a t-table or a calculator. For a 95% confidence interval with 49 degrees of freedom, the critical t-value is approximately 2.01.\n",
    "\n",
    "#### Plugging in the values, we get:\n",
    "\n",
    "#### Confidence interval = 500 ± 2.01*(7.07) = (485.4, 514.6)\n",
    "\n",
    "#### Therefore, we can say with 95% confidence that the true population mean revenue for the coffee shop is between 485.4 and\n",
    "#### 514.6 per day."
   ]
  },
  {
   "cell_type": "code",
   "execution_count": 3,
   "id": "a75056c7-5c94-4db6-afa3-52c77969acd3",
   "metadata": {},
   "outputs": [
    {
     "name": "stdout",
     "output_type": "stream",
     "text": [
      "95% Confidence Interval: ($485.79, $514.21)\n"
     ]
    }
   ],
   "source": [
    "import math\n",
    "from scipy.stats import t\n",
    "\n",
    "# sample statistics\n",
    "sample_mean = 500\n",
    "sample_std_dev = 50\n",
    "sample_size = 50\n",
    "\n",
    "# calculate t-value for 95% confidence interval with 49 degrees of freedom\n",
    "t_value = t.ppf(0.975, sample_size-1)\n",
    "\n",
    "# calculate standard error\n",
    "std_error = sample_std_dev / math.sqrt(sample_size)\n",
    "\n",
    "# calculate confidence interval\n",
    "lower_bound = sample_mean - t_value*std_error\n",
    "upper_bound = sample_mean + t_value*std_error\n",
    "\n",
    "# print confidence interval\n",
    "print(\"95% Confidence Interval: (${:.2f}, ${:.2f})\".format(lower_bound, upper_bound))"
   ]
  },
  {
   "cell_type": "markdown",
   "id": "3fa4a15b-fa3f-4f74-a244-0e62a408789a",
   "metadata": {},
   "source": [
    "## Q14. A researcher hypothesizes that a new drug will decrease blood pressure by 10 mmHg. They conduct a clinical trial with 100 patients and find that the sample mean decrease in blood pressure is 8 mmHg with a standard deviation of 3 mmHg. Test the hypothesis with a significance level of 0.05."
   ]
  },
  {
   "cell_type": "code",
   "execution_count": 4,
   "id": "cb68f49b-325b-4860-a354-1fe690a1ffd3",
   "metadata": {},
   "outputs": [
    {
     "name": "stdout",
     "output_type": "stream",
     "text": [
      "Reject null hypothesis. The new drug decreases blood pressure.\n",
      "t-value: -6.666666666666667\n",
      "p-value: 1.5012289189542116e-09\n"
     ]
    }
   ],
   "source": [
    "import math\n",
    "from scipy.stats import t\n",
    "\n",
    "# sample statistics\n",
    "sample_mean = 8\n",
    "sample_std_dev = 3\n",
    "sample_size = 100\n",
    "\n",
    "# hypothesized population mean\n",
    "hypo_mean = 10\n",
    "\n",
    "# calculate t-value\n",
    "t_value = (sample_mean - hypo_mean) / (sample_std_dev / math.sqrt(sample_size))\n",
    "\n",
    "# calculate degrees of freedom\n",
    "df = sample_size - 1\n",
    "\n",
    "# calculate p-value\n",
    "p_value = 2 * (1 - t.cdf(abs(t_value), df))\n",
    "\n",
    "# check significance level\n",
    "alpha = 0.05\n",
    "if p_value < alpha:\n",
    "    print(\"Reject null hypothesis. The new drug decreases blood pressure.\")\n",
    "else:\n",
    "    print(\"Fail to reject null hypothesis. The new drug does not decrease blood pressure.\")\n",
    "    \n",
    "# print t-value and p-value\n",
    "print(\"t-value:\", t_value)\n",
    "print(\"p-value:\", p_value)"
   ]
  },
  {
   "cell_type": "markdown",
   "id": "27436850-0023-4a30-a62f-4732a9744633",
   "metadata": {},
   "source": [
    "## Q15. An electronics company produces a certain type of product with a mean weight of 5 pounds and a standard deviation of 0.5 pounds. A random sample of 25 products is taken, and the sample mean weight is found to be 4.8 pounds. Test the hypothesis that the true mean weight of the products is less than 5 pounds with a significance level of 0.01."
   ]
  },
  {
   "cell_type": "markdown",
   "id": "390c2095-f8bb-4a17-b27e-c62083195f6c",
   "metadata": {},
   "source": [
    "#### Given:\n",
    "\n",
    "#### Population mean weight = 5 pounds Population standard deviation = 0.5 pounds Sample size = 25 Sample mean weight = 4.8 pounds Significance level (alpha) = 0.01 Null hypothesis (H0): True mean weight of the products is >= 5 pounds Alternative hypothesis (Ha): True mean weight of the products is < 5 pounds We will use a one-sample t-test to test the hypothesis.\n",
    "\n",
    "#### The t-statistic can be calculated using the formula:\n",
    "\n",
    "#### t = (x̄ - μ) / (s / √n)\n",
    "\n",
    "#### Where:\n",
    "\n",
    "#### x̄ = sample mean μ = population mean s = sample standard deviation n = sample size Let's calculate the t-statistic:\n",
    "\n",
    "#### t = (4.8 - 5) / (0.5 / √25) t = -2\n",
    "\n",
    "#### The degrees of freedom for the test is n-1 = 24.\n",
    "\n",
    "#### Using a t-table or a t-distribution calculator, we find the critical t-value for a one-tailed test with 24 degrees of freedom and a significance level of 0.01 is -2.492.\n",
    "\n",
    "#### Since our calculated t-statistic of -2 is less than the critical t-value of -2.492, we reject the null hypothesis.\n",
    "\n",
    "#### Therefore, we can conclude that the true mean weight of the products is less than 5 pounds with a significance level of 0.01."
   ]
  },
  {
   "cell_type": "code",
   "execution_count": 5,
   "id": "9ac59a6e-e5f5-4976-91f6-d08e08a85d7f",
   "metadata": {},
   "outputs": [
    {
     "name": "stdout",
     "output_type": "stream",
     "text": [
      "Fail to reject the null hypothesis. The true mean weight is not less than 5 pounds.\n"
     ]
    }
   ],
   "source": [
    "import math\n",
    "from scipy.stats import t\n",
    "\n",
    "# population parameters\n",
    "mu = 5  # mean weight\n",
    "sigma = 0.5  # standard deviation\n",
    "\n",
    "# sample parameters\n",
    "n = 25  # sample size\n",
    "x_bar = 4.8  # sample mean\n",
    "\n",
    "# calculate the test statistic\n",
    "se = sigma / math.sqrt(n)  # standard error of the mean\n",
    "t_stat = (x_bar - mu) / se\n",
    "\n",
    "# calculate the p-value\n",
    "df = n - 1  # degrees of freedom\n",
    "p_value = t.cdf(t_stat, df)\n",
    "\n",
    "# compare the p-value to the significance level\n",
    "alpha = 0.01\n",
    "if p_value < alpha:\n",
    "    print(\"Reject the null hypothesis. The true mean weight is less than 5 pounds.\")\n",
    "else:\n",
    "    print(\"Fail to reject the null hypothesis. The true mean weight is not less than 5 pounds.\")"
   ]
  },
  {
   "cell_type": "markdown",
   "id": "8353980a-226d-4a49-8c25-f3422e16747a",
   "metadata": {},
   "source": [
    "## Q16. Two groups of students are given different study materials to prepare for a test. The first group (n1 = 30) has a mean score of 80 with a standard deviation of 10, and the second group (n2 = 40) has a mean score of 75 with a standard deviation of 8. Test the hypothesis that the population means for the two groups are equal with a significance level of 0.01."
   ]
  },
  {
   "cell_type": "code",
   "execution_count": 6,
   "id": "4fe9a1ce-a0f2-42c1-82fa-92c1af06d983",
   "metadata": {},
   "outputs": [
    {
     "name": "stdout",
     "output_type": "stream",
     "text": [
      "t-statistic: 2.323967729699292\n",
      "p-value: 0.02312301341372599\n",
      "Fail to reject null hypothesis\n"
     ]
    }
   ],
   "source": [
    "import scipy.stats as stats\n",
    "\n",
    "# Define the sample statistics\n",
    "n1 = 30\n",
    "mean1 = 80\n",
    "std1 = 10\n",
    "\n",
    "n2 = 40\n",
    "mean2 = 75\n",
    "std2 = 8\n",
    "\n",
    "# Calculate the t-statistic and p-value\n",
    "t, p = stats.ttest_ind_from_stats(mean1, std1, n1, mean2, std2, n2)\n",
    "\n",
    "# Print the results\n",
    "print(\"t-statistic:\", t)\n",
    "print(\"p-value:\", p)\n",
    "\n",
    "# Check if the p-value is less than the significance level\n",
    "alpha = 0.01\n",
    "if p < alpha:\n",
    "    print(\"Reject null hypothesis\")\n",
    "else:\n",
    "    print(\"Fail to reject null hypothesis\")"
   ]
  },
  {
   "cell_type": "markdown",
   "id": "d14b45d1-3826-4f63-a36f-1a06903d8e16",
   "metadata": {},
   "source": [
    "## Q17. A marketing company wants to estimate the average number of ads watched by viewers during a TV program. They take a random sample of 50 viewers and find that the sample mean is 4 with a standard deviation of 1.5. Estimate the population mean with a 99% confidence interval."
   ]
  },
  {
   "cell_type": "code",
   "execution_count": 7,
   "id": "3a361156-dfd3-4185-a5a1-0f3c35368a11",
   "metadata": {},
   "outputs": [
    {
     "name": "stdout",
     "output_type": "stream",
     "text": [
      "The population mean with a 99% confidence interval is between 3.43 and 4.57\n"
     ]
    }
   ],
   "source": [
    "import scipy.stats as stats\n",
    "import math\n",
    "\n",
    "sample_mean = 4\n",
    "sample_std = 1.5\n",
    "n = 50\n",
    "alpha = 0.01\n",
    "\n",
    "# Calculate the standard error\n",
    "se = sample_std / math.sqrt(n)\n",
    "\n",
    "# Calculate the t-score for a 99% confidence level with (n-1) degrees of freedom\n",
    "t = stats.t.ppf(1 - alpha/2, n-1)\n",
    "\n",
    "# Calculate the margin of error\n",
    "me = t * se\n",
    "\n",
    "# Calculate the confidence interval\n",
    "lower_ci = sample_mean - me\n",
    "upper_ci = sample_mean + me\n",
    "\n",
    "# Print the results\n",
    "print(\"The population mean with a 99% confidence interval is between\", round(lower_ci, 2), \"and\", round(upper_ci, 2))"
   ]
  },
  {
   "cell_type": "code",
   "execution_count": null,
   "id": "014700ab-4eec-43f0-88c9-f4e30fe0ce2b",
   "metadata": {},
   "outputs": [],
   "source": []
  }
 ],
 "metadata": {
  "kernelspec": {
   "display_name": "Python 3 (ipykernel)",
   "language": "python",
   "name": "python3"
  },
  "language_info": {
   "codemirror_mode": {
    "name": "ipython",
    "version": 3
   },
   "file_extension": ".py",
   "mimetype": "text/x-python",
   "name": "python",
   "nbconvert_exporter": "python",
   "pygments_lexer": "ipython3",
   "version": "3.10.8"
  }
 },
 "nbformat": 4,
 "nbformat_minor": 5
}
