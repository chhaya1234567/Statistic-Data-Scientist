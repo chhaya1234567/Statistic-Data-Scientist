{
 "cells": [
  {
   "cell_type": "markdown",
   "id": "8aa82822-59e4-43f4-88f4-480157c66bd6",
   "metadata": {},
   "source": [
    "## Q1: What are the Probability Mass Function (PMF) and Probability Density Function (PDF)? Explain with an example."
   ]
  },
  {
   "cell_type": "markdown",
   "id": "3cebc78c-2d60-463a-bf5d-30c14d74532b",
   "metadata": {},
   "source": [
    "#### Probability Mass Function (PMF) and Probability Density Function (PDF) are two ways of describing the probability distribution of a random variable.\n",
    "\n",
    "#### A Probability Mass Function (PMF) is a function that describes the probability of a discrete random variable taking on specific values. It gives the probability of each possible outcome in a discrete probability distribution. For example, consider a random variable X representing the number of heads obtained when a coin is flipped three times. The PMF of X can be given as:\n",
    "\n",
    "#### PMF(X=0) = 1/8 PMF(X=1) = 3/8 PMF(X=2) = 3/8 PMF(X=3) = 1/8\n",
    "\n",
    "#### Here, the sum of all PMFs is equal to 1, as required.\n",
    "\n",
    "#### On the other hand, a Probability Density Function (PDF) is a function that describes the probability density of a continuous random variable. It describes the relative likelihood of different values of a continuous random variable. The probability of the random variable falling within a particular range of values is given by the area under the PDF curve. For example, consider a continuous random variable Y representing the height of individuals in a population. The PDF of Y can be given as:\n",
    "\n",
    "#### PDF(Y=y) = k(y-a)(b-y), for a <= y <= b\n",
    "\n",
    "#### Here, k is a constant such that the area under the PDF curve is equal to 1, and a and b are the lower and upper bounds of the range of Y. The probability of Y falling within a specific range [c,d] is given by:\n",
    "\n",
    "#### P(c <= Y <= d) = Integral(PDF(Y=y)dy, y=c to d)\n",
    "\n",
    "#### This is equivalent to the area under the PDF curve between c and d."
   ]
  },
  {
   "cell_type": "markdown",
   "id": "2004dd74-888a-40b3-98b7-dd51cbe32ce8",
   "metadata": {},
   "source": [
    "## Q2: What is Cumulative Density Function (CDF)? Explain with an example. Why CDF is used?"
   ]
  },
  {
   "cell_type": "markdown",
   "id": "f29ad75a-9b0e-49c1-988d-d6440b452410",
   "metadata": {},
   "source": [
    "#### The Cumulative Distribution Function (CDF) is a function that gives the probability that a random variable X takes a value less than or equal to a certain value x. In other words, the CDF of X is defined as the integral of the probability density function (PDF) of X from negative infinity to x, for continuous random variables, or as the sum of the PMF of X from negative infinity to x, for discrete random variables.\n",
    "\n",
    "#### Mathematically, the CDF of X is defined as:\n",
    "\n",
    "#### F(x) = P(X <= x) = integral(PDF(X <= x)dx) or sum(PMF(X <= x))\n",
    "\n",
    "#### For example, let's say we have a continuous random variable Y representing the time it takes for a customer to check out at a store. Suppose the PDF of Y is given as:\n",
    "\n",
    "#### PDF(Y=y) = 2y, for 0 <= y <= 1\n",
    "\n",
    "#### To find the CDF of Y, we integrate the PDF from negative infinity to x:\n",
    "\n",
    "#### F(x) = Integral(PDF(Y <= x)dy, y=-infinity to x) = Integral(2y dy, y=0 to x) = x^2\n",
    "\n",
    "#### Therefore, the CDF of Y is given by:\n",
    "\n",
    "#### F(x) = x^2, for 0 <= x <= 1\n",
    "\n",
    "#### The CDF is an important concept in probability theory and statistics because it provides a complete description of the probability distribution of a random variable. The CDF can be used to calculate the probability of any event involving the random variable X, by subtracting the CDF values at the endpoints of the event. It can also be used to calculate other statistical measures such as the mean, median, and mode of the distribution."
   ]
  },
  {
   "cell_type": "markdown",
   "id": "b85424ad-d2ae-45ce-817e-b1ddda873f4b",
   "metadata": {},
   "source": [
    "## Q3: What are some examples of situations where the normal distribution might be used as a model? Explain how the parameters of the normal distribution relate to the shape of the distribution."
   ]
  },
  {
   "cell_type": "markdown",
   "id": "7f29ae00-d591-4553-a4bd-5a0d72ea7eb9",
   "metadata": {},
   "source": [
    "#### The normal distribution, also known as the Gaussian distribution, is a probability distribution that is widely used to model real-world phenomena. It is a continuous probability distribution that is symmetric and bell-shaped, with the highest probability density occurring at the mean value of the distribution.\n",
    "\n",
    "#### Some examples of situations where the normal distribution might be used as a model include:\n",
    "\n",
    "#### Heights and weights of a population Test scores in a large population Blood pressure measurements Errors in measurement Financial returns The normal distribution is characterized by two parameters, the mean (μ) and the standard deviation (σ). The mean represents the central tendency of the distribution and the standard deviation represents the spread or variability of the distribution.\n",
    "\n",
    "#### The mean determines the location of the peak of the distribution, while the standard deviation determines the width of the distribution. The larger the standard deviation, the wider the distribution will be. The standard deviation also determines the percentage of values that fall within a certain range of the mean, as specified by the empirical rule.\n",
    "\n",
    "#### For example, if a normal distribution has a mean of 50 and a standard deviation of 10, approximately 68% of the values will fall within the range of 40 to 60, 95% of the values will fall within the range of 30 to 70, and 99.7% of the values will fall within the range of 20 to 80, according to the empirical rule.\n",
    "\n",
    "#### In summary, the parameters of the normal distribution are used to describe the central tendency and spread of the distribution, which in turn determine the shape and characteristics of the distribution. The normal distribution is widely used as a model in situations where the data is continuous and symmetrically distributed."
   ]
  },
  {
   "cell_type": "markdown",
   "id": "91ee2229-8352-4e09-8fb7-4d00c56188f4",
   "metadata": {},
   "source": [
    "## Q4: Explain the importance of Normal Distribution. Give a few real-life examples of Normal Distribution."
   ]
  },
  {
   "cell_type": "markdown",
   "id": "bfdac0b2-c267-4232-8daa-b53e7e9ddece",
   "metadata": {},
   "source": [
    "#### The normal distribution, also known as the Gaussian distribution, is an essential concept in probability theory and statistics. It is important because it is used to model a wide range of real-life phenomena that follow a bell-shaped distribution. The normal distribution has many properties that make it an ideal model for various applications, including:\n",
    "\n",
    "#### **Central limit theorem**: The normal distribution is the limit of the sum of a large number of independent and identically distributed random variables. This means that many real-world phenomena can be approximated as normal distributions, making it an essential tool for statistical inference.\n",
    "\n",
    "#### **Standardization**: The normal distribution is a standardized distribution, meaning that any normal distribution can be transformed into a standard normal distribution with a mean of zero and a standard deviation of one. This allows for easy comparison of different datasets and simplifies many statistical calculations.\n",
    "\n",
    "#### **Symmetry**: The normal distribution is a symmetric distribution, meaning that it has equal probabilities for values on either side of the mean. This property makes it a natural choice for modeling phenomena that have no inherent directionality or bias.\n",
    "\n",
    "#### Some real-life examples of normal distribution include:\n",
    "\n",
    "#### **Heights and weights of a population**: Human heights and weights are known to follow a normal distribution, with the majority of people falling near the mean and fewer people at the extremes.\n",
    "\n",
    "#### **IQ scores**: Intelligence quotient (IQ) scores are typically modeled as a normal distribution, with a mean of 100 and a standard deviation of 15.\n",
    "\n",
    "#### **Financial returns**: The daily returns of financial assets, such as stocks and bonds, are often assumed to follow a normal distribution, with the mean representing the expected return and the standard deviation representing the risk associated with the asset.\n",
    "\n",
    "#### **Error in measurement**: The measurement errors in many instruments, such as thermometers or scales, can be modeled as a normal distribution, with the mean representing the true value and the standard deviation representing the precision of the instrument.\n",
    "\n",
    "#### In summary, the normal distribution is a fundamental concept in probability theory and statistics that is widely used to model real-life phenomena. Its many properties make it an essential tool for statistical analysis, inference, and decision-making in various fields."
   ]
  },
  {
   "cell_type": "markdown",
   "id": "09b7f740-76de-4f61-b3f6-e90da55e25e9",
   "metadata": {},
   "source": [
    "## Q5: What is Bernaulli Distribution? Give an Example. What is the difference between Bernoulli Distribution and Binomial Distribution?"
   ]
  },
  {
   "cell_type": "markdown",
   "id": "ddd2c768-b366-41ba-92e7-e5f7397ad9ea",
   "metadata": {},
   "source": [
    "#### Bernoulli distribution is a discrete probability distribution that represents a single trial of a binary experiment, where the outcome is either a success or a failure. It is named after Swiss mathematician Jacob Bernoulli, who introduced it in his book \"Ars Conjectandi\" in 1713.\n",
    "\n",
    "#### The Bernoulli distribution is characterized by a single parameter, p, which represents the probability of success. The probability mass function (PMF) of the Bernoulli distribution is given by:\n",
    "\n",
    "#### P(X=x) = p^x * (1-p)^(1-x) for x = 0, 1\n",
    "\n",
    "#### where X is the random variable representing the outcome of the experiment.\n",
    "\n",
    "#### An example of the Bernoulli distribution is flipping a coin, where the outcome can either be a success (heads) or a failure (tails). In this case, p = 0.5 represents the probability of getting heads.\n",
    "\n",
    "#### The Bernoulli distribution is different from the binomial distribution, which is a discrete probability distribution that represents the number of successes in a fixed number of independent and identically distributed (i.i.d.) Bernoulli trials. The binomial distribution is characterized by two parameters, n and p, where n represents the number of trials and p represents the probability of success in each trial.\n",
    "\n",
    "#### The probability mass function (PMF) of the binomial distribution is given by:\n",
    "\n",
    "#### P(X=k) = (n choose k) * p^k * (1-p)^(n-k) for k = 0, 1, ..., n\n",
    "\n",
    "#### where X is the random variable representing the number of successes in n trials.\n",
    "\n",
    "#### An example of the binomial distribution is the number of heads obtained in flipping a coin 10 times, where each flip is a Bernoulli trial with p = 0.5. In this case, n = 10 represents the number of trials.\n",
    "\n",
    "#### In summary, the Bernoulli distribution represents a single trial of a binary experiment, while the binomial distribution represents the number of successes in a fixed number of independent and identically distributed (i.i.d.) Bernoulli trials. The Bernoulli distribution is a special case of the binomial distribution when n = 1."
   ]
  },
  {
   "cell_type": "markdown",
   "id": "9008c7c0-0c20-406d-8351-91256c513fd7",
   "metadata": {},
   "source": [
    "## Q6. Consider a dataset with a mean of 50 and a standard deviation of 10. If we assume that the dataset is normally distributed, what is the probability that a randomly selected observation will be greater than 60? Use the appropriate formula and show your calculations."
   ]
  },
  {
   "cell_type": "code",
   "execution_count": 1,
   "id": "e839c95a-e7e1-4408-ae37-af8c4dad5387",
   "metadata": {},
   "outputs": [
    {
     "name": "stdout",
     "output_type": "stream",
     "text": [
      "The probability of getting a value greater than 60 is: 0.15865525393145707\n"
     ]
    }
   ],
   "source": [
    "from scipy.stats import norm\n",
    "\n",
    "mu = 50 # mean\n",
    "sigma = 10 # standard deviation\n",
    "x = 60 # value we want to find the probability for\n",
    "\n",
    "# Calculate the probability using the CDF of the normal distribution\n",
    "prob = 1 - norm.cdf(x, loc=mu, scale=sigma)\n",
    "\n",
    "print(\"The probability of getting a value greater than 60 is:\", prob)"
   ]
  },
  {
   "cell_type": "markdown",
   "id": "2a7aa745-61d2-4045-8c9f-e19f63b4f8d2",
   "metadata": {},
   "source": [
    "## Q7: Explain uniform Distribution with an example."
   ]
  },
  {
   "cell_type": "markdown",
   "id": "74d5945a-4215-4357-9034-69f7a2542a65",
   "metadata": {},
   "source": [
    "#### Uniform distribution is a continuous probability distribution where all the values in a given range have an equal probability of occurring. This means that the probability density function (PDF) of a uniform distribution is constant within a given range and zero outside that range.\n",
    "\n",
    "#### An example of a uniform distribution is the roll of a fair die. The die has six faces, each with a value of 1, 2, 3, 4, 5, or 6. When we roll the die, each value has an equal probability of occurring, which is 1/6. Therefore, the range of possible values for a roll of a die is 1 to 6, and the probability density function (PDF) of the roll is uniform over this range.\n",
    "\n",
    "#### Mathematically, we can define the PDF of a uniform distribution as:\n",
    "\n",
    "#### f(x) = 1/(b-a) for a <= x <= b f(x) = 0 otherwise\n",
    "\n",
    "#### where a and b are the minimum and maximum values in the range, respectively.\n",
    "\n",
    "#### The cumulative distribution function (CDF) of a uniform distribution is:\n",
    "\n",
    "#### F(x) = 0 for x < a F(x) = (x-a)/(b-a) for a <= x <= b F(x) = 1 for x > b\n",
    "\n",
    "#### The mean of a uniform distribution is:\n",
    "\n",
    "#### E(x) = (a+b)/2\n",
    "\n",
    "#### And the variance of a uniform distribution is:\n",
    "\n",
    "#### Var(x) = (b-a)^2 / 12"
   ]
  },
  {
   "cell_type": "markdown",
   "id": "77a2134b-2f6f-4e98-a1b7-9b9b6f614951",
   "metadata": {},
   "source": [
    "## Q8: What is the z score? State the importance of the z score."
   ]
  },
  {
   "cell_type": "markdown",
   "id": "3e6bfde7-f1d1-49b1-8555-e011caea0a58",
   "metadata": {},
   "source": [
    "#### The z-score, also known as the standard score, is a dimensionless quantity that measures the number of standard deviations a data point is from the mean of its distribution. It is calculated by subtracting the mean of the distribution from the data point and dividing the result by the standard deviation of the distribution.\n",
    "\n",
    "#### The formula for calculating the z-score is:\n",
    "\n",
    "#### z = (x - μ) / σ\n",
    "\n",
    "#### where x is the data point, μ is the mean of the distribution, and σ is the standard deviation of the distribution.\n",
    "\n",
    "#### The importance of the z-score lies in its ability to standardize data and compare data from different distributions on the same scale. By converting data to z-scores, we can compare data from different populations and see how far a data point is from the mean in terms of standard deviations. The z-score also helps in identifying outliers, as any data point that falls more than 3 standard deviations from the mean is considered an outlier.\n",
    "\n",
    "#### Furthermore, the z-score is used extensively in hypothesis testing, where we compare a sample mean to a population mean to determine if there is a statistically significant difference between the two. In this case, we use the z-score to calculate the p-value, which is the probability of observing a sample mean as extreme or more extreme than the one we have observed, assuming the null hypothesis is true.\n",
    "\n",
    "#### Overall, the z-score is an important statistical tool that helps in standardizing data, identifying outliers, and performing hypothesis testing."
   ]
  },
  {
   "cell_type": "markdown",
   "id": "8c53ad80-3bd5-48e0-9945-2ab60e043fb2",
   "metadata": {},
   "source": [
    "## Q9: What is Central Limit Theorem? State the significance of the Central Limit Theorem."
   ]
  },
  {
   "cell_type": "markdown",
   "id": "cd54fdc3-76aa-457d-ba45-087a7eafddc6",
   "metadata": {},
   "source": [
    "#### The Central Limit Theorem (CLT) is a fundamental statistical concept that states that the distribution of sample means from a population with any distribution will approximate a normal distribution as the sample size increases, regardless of the shape of the original distribution.\n",
    "\n",
    "#### The CLT has several implications and significance, including:\n",
    "\n",
    "#### It allows us to make inferences about a population based on a sample mean. For instance, if we take a random sample of 1000 students' heights and compute the mean height of the sample, the CLT tells us that the distribution of sample means will follow a normal distribution regardless of the population distribution.\n",
    "\n",
    "#### The CLT is the basis for statistical inference and hypothesis testing. It allows us to estimate population parameters, such as the population mean or variance, and determine the probability of obtaining a sample mean or proportion.\n",
    "\n",
    "#### It provides a framework for evaluating the reliability and validity of statistical models. If a model's residuals (observed minus predicted values) follow a normal distribution, it suggests that the model is a good fit for the data.\n",
    "\n",
    "#### The CLT has important practical applications in fields such as finance, engineering, and economics, where it is used to analyze large data sets and make predictions about future events.\n",
    "\n",
    "#### In summary, the Central Limit Theorem is a fundamental concept in statistics that allows us to draw conclusions about populations based on sample means. Its significance lies in its practical applications in a wide range of fields and its role in statistical inference and hypothesis testing."
   ]
  },
  {
   "cell_type": "markdown",
   "id": "f3816971-3e2a-4743-9bd9-cee28deca931",
   "metadata": {},
   "source": [
    "## Q10: State the assumptions of the Central Limit Theorem."
   ]
  },
  {
   "cell_type": "markdown",
   "id": "61782990-1618-4f46-8a0c-4c1376e79d6a",
   "metadata": {},
   "source": [
    "#### The Central Limit Theorem (CLT) relies on the following assumptions:\n",
    "\n",
    "#### **Random Sampling**: The samples are taken randomly from the population, without any bias.\n",
    "\n",
    "#### **Independence**: The samples must be independent of each other, meaning that the value of one sample does not affect the value of another sample.\n",
    "\n",
    "#### **Sample Size**: The sample size should be large enough. The general rule is that the sample size should be at least 30. If the sample size is less than 30, the population distribution should be normal.\n",
    "\n",
    "#### **Population Distribution**: The population distribution can be any distribution, but as the sample size increases, the distribution of the sample means will approach a normal distribution, regardless of the population distribution.\n",
    "\n",
    "#### **Finite Variance**: The population from which the samples are taken should have a finite variance. If the population has an infinite variance, the sample means will not converge to a normal distribution as the sample size increases.\n",
    "\n",
    "#### These assumptions ensure that the sample means will be normally distributed, and the CLT can be applied to make statistical inferences about the population."
   ]
  },
  {
   "cell_type": "code",
   "execution_count": null,
   "id": "339a8d02-d03d-49d5-8f72-395ebbf38098",
   "metadata": {},
   "outputs": [],
   "source": []
  }
 ],
 "metadata": {
  "kernelspec": {
   "display_name": "Python 3 (ipykernel)",
   "language": "python",
   "name": "python3"
  },
  "language_info": {
   "codemirror_mode": {
    "name": "ipython",
    "version": 3
   },
   "file_extension": ".py",
   "mimetype": "text/x-python",
   "name": "python",
   "nbconvert_exporter": "python",
   "pygments_lexer": "ipython3",
   "version": "3.10.8"
  }
 },
 "nbformat": 4,
 "nbformat_minor": 5
}
