{
 "cells": [
  {
   "cell_type": "markdown",
   "id": "62eb73bc-eb9a-4abd-aa45-277212c02c47",
   "metadata": {},
   "source": [
    "## Q1. Calculate the 95% confidence interval for a sample of data with a mean of 50 and a standard deviation of 5 using Python. Interpret the results."
   ]
  },
  {
   "cell_type": "code",
   "execution_count": 8,
   "id": "d713d142-c99a-4e6e-8a2c-fce795b671ff",
   "metadata": {},
   "outputs": [
    {
     "name": "stdout",
     "output_type": "stream",
     "text": [
      "The 95% confidence interval is: (49.02001800772997, 50.97998199227003)\n"
     ]
    }
   ],
   "source": [
    "import scipy.stats as stats\n",
    "\n",
    "sample_mean = 50\n",
    "sample_std = 5\n",
    "n = 100 \n",
    "# Calculating the standard error of the mean\n",
    "std_error = sample_std / (n**0.5)\n",
    "\n",
    "# Calculating the 95% confidence interval\n",
    "conf_interval = stats.norm.interval(0.95, loc=sample_mean, scale=std_error)\n",
    "\n",
    "print(\"The 95% confidence interval is:\", conf_interval)"
   ]
  },
  {
   "cell_type": "markdown",
   "id": "8d2677a1-d040-4575-a367-fe15b556a0e7",
   "metadata": {},
   "source": [
    "## Q2. Conduct a chi-square goodness of fit test to determine if the distribution of colors of M&Ms in a bag matches the expected distribution of 20% blue, 20% orange, 20% green, 10% yellow, 10% red, and 20% brown. Use Python to perform the test with a significance level of 0.05."
   ]
  },
  {
   "cell_type": "code",
   "execution_count": 9,
   "id": "2010eca1-a038-40bc-ba2c-9c180007e5f6",
   "metadata": {},
   "outputs": [
    {
     "name": "stdout",
     "output_type": "stream",
     "text": [
      "There is significant evidence to reject the null hypothesis.\n",
      "Chi-square test statistic: 12.5\n",
      "p-value: 0.028543123326167485\n"
     ]
    }
   ],
   "source": [
    "import numpy as np\n",
    "import scipy.stats as stats\n",
    "\n",
    "# Observed counts\n",
    "observed = np.array([10, 20, 25, 15, 5, 25])\n",
    "\n",
    "# Expected counts (adjusted)\n",
    "expected = np.array([0.2, 0.2, 0.2, 0.1, 0.1, 0.2]) * np.sum(observed)\n",
    "\n",
    "# Degrees of freedom\n",
    "df = len(observed) - 1\n",
    "\n",
    "# Calculating the chi-square test statistic and p-value\n",
    "chi2, p = stats.chisquare(observed, expected)\n",
    "\n",
    "# Comparing the p-value with the significance level\n",
    "alpha = 0.05\n",
    "if p < alpha:\n",
    "    print(\"There is significant evidence to reject the null hypothesis.\")\n",
    "else:\n",
    "    print(\"There is not enough evidence to reject the null hypothesis.\")\n",
    "\n",
    "print(\"Chi-square test statistic:\", chi2)\n",
    "print(\"p-value:\", p)"
   ]
  },
  {
   "cell_type": "markdown",
   "id": "3d78e73d-6c0c-4732-954c-594ca121a54a",
   "metadata": {},
   "source": [
    "## Q3. Use Python to calculate the chi-square statistic and p-value for a contingency table with the following data: Interpret the results of the test."
   ]
  },
  {
   "cell_type": "code",
   "execution_count": 4,
   "id": "81cc002c-114a-478d-9745-8a15897282c9",
   "metadata": {},
   "outputs": [
    {
     "name": "stdout",
     "output_type": "stream",
     "text": [
      "Chi-square test statistic: 5.833333333333334\n",
      "p-value: 0.05411376622282158\n",
      "Degrees of freedom: 2\n",
      "Expected frequencies:\n",
      " [[15. 20.]\n",
      " [15. 20.]\n",
      " [15. 20.]]\n",
      "There is not enough evidence to reject the null hypothesis.\n"
     ]
    }
   ],
   "source": [
    "import numpy as np\n",
    "import scipy.stats as stats\n",
    "\n",
    "# Create the contingency table\n",
    "observed = np.array([[20, 15], [10, 25], [15, 20]])\n",
    "\n",
    "# Calculate the chi-square test statistic and p-value\n",
    "chi2, p, dof, expected = stats.chi2_contingency(observed)\n",
    "\n",
    "# Print the results\n",
    "print(\"Chi-square test statistic:\", chi2)\n",
    "print(\"p-value:\", p)\n",
    "print(\"Degrees of freedom:\", dof)\n",
    "print(\"Expected frequencies:\\n\", expected)\n",
    "\n",
    "# Interpret the results\n",
    "alpha = 0.05\n",
    "if p < alpha:\n",
    "    print(\"There is significant evidence to reject the null hypothesis.\")\n",
    "else:\n",
    "    print(\"There is not enough evidence to reject the null hypothesis.\")"
   ]
  },
  {
   "cell_type": "markdown",
   "id": "367aa1d5-f24a-4182-b691-9ff470947a97",
   "metadata": {},
   "source": [
    "## Q4. A study of the prevalence of smoking in a population of 500 individuals found that 60 individuals smoked. Use Python to calculate the 95% confidence interval for the true proportion of individuals in the population who smoke."
   ]
  },
  {
   "cell_type": "markdown",
   "id": "490ade1f-ce85-4b96-9664-1b2ad898c11e",
   "metadata": {},
   "source": [
    "#### To calculate the 95% confidence interval for the proportion of individuals in the population who smoke, we can use the following formula:\n",
    "\n",
    "#### CI = (p ± z*SE)\n",
    "\n",
    "#### where p is the sample proportion, z is the z-score corresponding to the desired level of confidence (0.95 in this case), and SE is the standard error of the proportion, given by:\n",
    "\n",
    "#### SE = sqrt((p*(1-p))/n)\n",
    "\n",
    "#### where n is the sample size."
   ]
  },
  {
   "cell_type": "code",
   "execution_count": 5,
   "id": "93fc53e6-c6a6-4980-8918-3b24fa759350",
   "metadata": {},
   "outputs": [
    {
     "name": "stdout",
     "output_type": "stream",
     "text": [
      "95% Confidence Interval: [0.0915, 0.1485]\n"
     ]
    }
   ],
   "source": [
    "import math\n",
    "import scipy.stats as stats\n",
    "\n",
    "n = 500\n",
    "p = 60/500\n",
    "z = stats.norm.ppf(0.975)\n",
    "SE = math.sqrt((p*(1-p))/n)\n",
    "\n",
    "lower = p - z*SE\n",
    "upper = p + z*SE\n",
    "\n",
    "print(f\"95% Confidence Interval: [{lower:.4f}, {upper:.4f}]\")"
   ]
  },
  {
   "cell_type": "markdown",
   "id": "f8501263-1c12-48b0-b263-ab56290527e4",
   "metadata": {},
   "source": [
    "## Q5. Calculate the 90% confidence interval for a sample of data with a mean of 75 and a standard deviation of 12 using Python. Interpret the results."
   ]
  },
  {
   "cell_type": "markdown",
   "id": "0dc63428-2b99-4ea5-8f47-209122b6b3d2",
   "metadata": {},
   "source": [
    "#### To calculate the 90% confidence interval for a sample with a mean of 75 and a standard deviation of 12, we can use the following formula:\n",
    "\n",
    "#### CI = (x̄ ± z*(σ/√n))\n",
    "\n",
    "#### where x̄ is the sample mean, σ is the population standard deviation, n is the sample size, z is the z-score corresponding to the desired level of confidence (0.90 in this case), and √n is the square root of the sample size."
   ]
  },
  {
   "cell_type": "code",
   "execution_count": 6,
   "id": "b99f0755-8202-4910-9297-6193447805cc",
   "metadata": {},
   "outputs": [
    {
     "name": "stdout",
     "output_type": "stream",
     "text": [
      "90% Confidence Interval: [73.0262, 76.9738]\n"
     ]
    }
   ],
   "source": [
    "import scipy.stats as stats\n",
    "\n",
    "n = 100\n",
    "mean = 75\n",
    "std = 12\n",
    "z = stats.norm.ppf(0.95) # Since 90% confidence level is 1 - alpha = 0.90, thus alpha = 0.10, then we need to find the z-value that corresponds to the upper tail probability of 0.10\n",
    "\n",
    "lower = mean - z*(std/(n**0.5))\n",
    "upper = mean + z*(std/(n**0.5))\n",
    "\n",
    "print(f\"90% Confidence Interval: [{lower:.4f}, {upper:.4f}]\")"
   ]
  },
  {
   "cell_type": "markdown",
   "id": "843a688a-8a44-4631-8ca8-144c3a91c97c",
   "metadata": {},
   "source": [
    "## Q6. Use Python to plot the chi-square distribution with 10 degrees of freedom. Label the axes and shade the area corresponding to a chi-square statistic of 15."
   ]
  },
  {
   "cell_type": "code",
   "execution_count": 7,
   "id": "64598bb9-f9eb-4141-b4fa-9f12e3dfcd96",
   "metadata": {},
   "outputs": [
    {
     "data": {
      "image/png": "[encoded data removed]",
      "text/plain": [
       "<Figure size 640x480 with 1 Axes>"
      ]
     },
     "metadata": {},
     "output_type": "display_data"
    }
   ],
   "source": [
    "import numpy as np\n",
    "import matplotlib.pyplot as plt\n",
    "from scipy.stats import chi2\n",
    "\n",
    "# Define the degrees of freedom\n",
    "df = 10\n",
    "\n",
    "# Define the range of x values\n",
    "x = np.linspace(0, 30, 200)\n",
    "\n",
    "# Plot the chi-square distribution\n",
    "plt.plot(x, chi2.pdf(x, df), 'b-', lw=2)\n",
    "\n",
    "# Shade the area corresponding to a chi-square statistic of 15\n",
    "x_shade = np.linspace(15, 30, 100)\n",
    "y_shade = chi2.pdf(x_shade, df)\n",
    "plt.fill_between(x_shade, y_shade, color='blue', alpha=0.5)\n",
    "\n",
    "# Label the axes\n",
    "plt.xlabel('Chi-Square Statistic')\n",
    "plt.ylabel('Density')\n",
    "\n",
    "# Show the plot\n",
    "plt.show()"
   ]
  },
  {
   "cell_type": "markdown",
   "id": "4991b629-5979-43b5-95de-4d199613a165",
   "metadata": {},
   "source": [
    "## Q7. A random sample of 1000 people was asked if they preferred Coke or Pepsi. Of the sample, 520 preferred Coke. Calculate a 99% confidence interval for the true proportion of people in the population who prefer Coke."
   ]
  },
  {
   "cell_type": "markdown",
   "id": "d8de0f6f-2bd0-4cf6-8d4e-597d0fef70bd",
   "metadata": {},
   "source": [
    "#### To calculate the 99% confidence interval for the true proportion of people in the population who prefer Coke, we can use the following formula:\n",
    "\n",
    "#### CI = p̂ ± z*√(p̂(1-p̂)/n)\n",
    "\n",
    "#### Where:\n",
    "\n",
    "#### p̂ is the sample proportion (520/1000 = 0.52) z is the z-score corresponding to a 99% confidence level, which is 2.576 for a two-tailed test n is the sample size (1000) √ represents the square root Plugging in the values, we get:\n",
    "\n",
    "#### CI = 0.52 ± 2.576*√(0.52(1-0.52)/1000)\n",
    "\n",
    "#### CI = 0.52 ± 0.049\n",
    "\n",
    "#### CI = (0.471, 0.569)\n",
    "\n",
    "#### Therefore, we can say with 99% confidence that the true proportion of people in the population who prefer Coke is between 47.1% and 56.9%."
   ]
  },
  {
   "cell_type": "markdown",
   "id": "54ba0297-d4a9-46f6-b726-b25432d5a46c",
   "metadata": {},
   "source": [
    "## Q8. A researcher hypothesizes that a coin is biased towards tails. They flip the coin 100 times and observe 45 tails. Conduct a chi-square goodness of fit test to determine if the observed frequencies match the expected frequencies of a fair coin. Use a significance level of 0.05."
   ]
  },
  {
   "cell_type": "markdown",
   "id": "bbdf4d2c-eeac-434d-99de-8c8aa4e70c1e",
   "metadata": {},
   "source": [
    "#### To conduct a chi-square goodness of fit test to determine if the observed frequencies match the expected frequencies of a fair coin, we can follow these steps:\n",
    "\n",
    "#### #### Step 1: State the null and alternative hypotheses.\n",
    "\n",
    "#### The null hypothesis is that the observed frequencies match the expected frequencies of a fair coin, and the alternative hypothesis is that the observed frequencies do not match the expected frequencies of a fair coin.\n",
    "\n",
    "#### H0: The coin is fair (i.e., p = 0.5) Ha: The coin is biased towards tails (i.e., p < 0.5)\n",
    "\n",
    "#### Step 2: Determine the expected frequencies.\n",
    "\n",
    "#### If the coin is fair, we would expect to see 50% heads and 50% tails in 100 flips. Therefore, the expected frequencies are:\n",
    "\n",
    "#### #### Expected frequency of heads: 100 * 0.5 = 50 Expected frequency of tails: 100 * 0.5 = 50\n",
    "\n",
    "#### Step 3: Calculate the test statistic.\n",
    "\n",
    "#### #### The chi-square test statistic for a goodness of fit test is calculated using the following formula:\n",
    "\n",
    "#### χ2 = ∑(O-E)²/E\n",
    "\n",
    "#### Where:\n",
    "\n",
    "#### χ2 is the chi-square test statistic O is the observed frequency E is the expected frequency Plugging in the observed and expected frequencies, we get:\n",
    "\n",
    "#### χ2 = [(45-50)²/50] + [(55-50)²/50] χ2 = 1\n",
    "\n",
    "#### Step 4: Determine the degrees of freedom.\n",
    "\n",
    "#### The degrees of freedom for a goodness of fit test are calculated as:\n",
    "\n",
    "#### df = k - 1\n",
    "\n",
    "#### Where k is the number of categories. In this case, we have two categories (heads and tails), so k = 2. Therefore:\n",
    "\n",
    "#### df = 2 - 1 = 1\n",
    "#### Step 5: Determine the critical value and p-value.\n",
    "\n",
    "#### Using a significance level of 0.05 and 1 degree of freedom, we can find the critical value from a chi-square distribution table or calculator. The critical value is 3.84.\n",
    "\n",
    "#### We can also find the p-value using a chi-square distribution table or calculator. The p-value is the probability of getting a test statistic as extreme or more extreme than the observed, assuming the null hypothesis is true. In this case, the p-value is 0.3173.\n",
    "\n",
    "#### Step 6: Make a decision.\n",
    "\n",
    "#### Since the test statistic (χ2 = 1) is less than the critical value (3.84) and the p-value (0.3173) is greater than the significance level (0.05), we fail to reject the null hypothesis.\n",
    "\n",
    "#### Therefore, we do not have enough evidence to conclude that the coin is biased towards tails. The observed frequencies are consistent with the expected frequencies of a fair coin."
   ]
  },
  {
   "cell_type": "markdown",
   "id": "37e26423-8dcc-48de-9f9e-1e3ed116e77b",
   "metadata": {},
   "source": [
    "## Q9. A study was conducted to determine if there is an association between smoking status (smoker or non-smoker) and lung cancer diagnosis (yes or no). The results are shown in the contingency table below. Conduct a chi-square test for independence to determine if there is a significant association between smoking status and lung cancer diagnosis. Use a significance level of 0.05."
   ]
  },
  {
   "cell_type": "markdown",
   "id": "1efc52da-4d92-4111-8c83-3cc0de06fda9",
   "metadata": {},
   "source": [
    "#### To conduct a chi-square test for independence, we need to determine the observed frequencies, expected frequencies, degrees of freedom, and the critical value for a significance level of 0.05.\n",
    "\n",
    "#### Observed Frequencies: Lung Cancer: Yes Lung Cancer: No Smoker 60 140 Non-smoker 30 170\n",
    "\n",
    "#### Total number of smokers = 60 + 140 = 200 Total number of non-smokers = 30 + 170 = 200 Total number of individuals with lung cancer = 60 + 30 = 90 Total number of individuals without lung cancer = 140 + 170 = 310\n",
    "\n",
    "#### Expected Frequencies: We can calculate the expected frequencies for each cell by multiplying the row total and the column total and then dividing by the grand total. Lung Cancer: Yes Lung Cancer: No Smoker (20090)/400 = 45 (200310)/400 = 155 Non-smoker (20090)/400 = 45 (200310)/400 = 155\n",
    "\n",
    "#### Degrees of Freedom: The degrees of freedom (df) for a chi-square test for independence can be calculated as (r-1)(c-1), where r is the number of rows and c is the number of columns in the contingency table. In this case, df = (2-1)(2-1) = 1\n",
    "\n",
    "#### Critical Value: We can look up the critical value for a chi-square distribution with 1 degree of freedom and a significance level of 0.05 in a chi-square table. The critical value is 3.84.\n",
    "\n",
    "#### Chi-Square Test Calculation: We can now calculate the chi-square test statistic using the formula:\n",
    "\n",
    "#### χ² = Σ[(O - E)²/E]\n",
    "\n",
    "#### where Σ is the sum of all cells in the contingency table, O is the observed frequency, and E is the expected frequency.\n",
    "\n",
    "#### Using the observed and expected frequencies, we can calculate the chi-square test statistic as follows:\n",
    "\n",
    "#### χ² = [(60-45)²/45] + [(140-155)²/155] + [(30-45)²/45] + [(170-155)²/155] = 5.78\n",
    "\n",
    "#### Since the calculated chi-square test statistic (5.78) is less than the critical value (3.84), we fail to reject the null hypothesis. Therefore, we can conclude that there is no significant association between smoking status and lung cancer diagnosis at a significance level of 0.05."
   ]
  },
  {
   "cell_type": "markdown",
   "id": "058ec7db-2d37-4462-bf00-6eed140a93f1",
   "metadata": {},
   "source": [
    "## Q10. A study was conducted to determine if the proportion of people who prefer milk chocolate, dark chocolate, or white chocolate is different in the U.S. versus the U.K. A random sample of 500 people from the U.S. and a random sample of 500 people from the U.K. were surveyed. The results are shown in the contingency table below. Conduct a chi-square test for independence to determine if there is a significant association between chocolate preference and country of origin. Use a significance level of 0.01."
   ]
  },
  {
   "cell_type": "markdown",
   "id": "5aa8a623-a3c8-4b78-97dd-180ec033b37d",
   "metadata": {},
   "source": [
    "#### To conduct a chi-square test for independence, we need to determine the observed frequencies, expected frequencies, degrees of freedom, and the critical value for a significance level of 0.01.\n",
    "\n",
    "#### Observed Frequencies:\n",
    "\n",
    "#### U.S. (n=500) 200 150 150 U.K. (n=500) 225 175 100\n",
    "\n",
    "#### Total number of respondents from the U.S. = 500 Total number of respondents from the U.K. = 500 Total number of respondents who prefer Milk Chocolate = 200 + 225 = 425 Total number of respondents who prefer Dark Chocolate = 150 + 175 = 325 Total number of respondents who prefer White Chocolate = 150 + 100 = 250\n",
    "\n",
    "#### Expected Frequencies:\n",
    "\n",
    "#### We can calculate the expected frequencies for each cell by multiplying the row total and the column total and then dividing by the grand total.\n",
    "\n",
    "#### U.S. (n=500) (425500)/1000 = 212.5 (325500)/1000 = 162.5 (250500)/1000 = 125 U.K. (n=500) (425500)/1000 = 212.5 (325500)/1000 = 162.5 (250500)/1000 = 125\n",
    "\n",
    "#### Degrees of Freedom:\n",
    "\n",
    "#### The degrees of freedom (df) for a chi-square test for independence can be calculated as (r-1)*(c-1), where r is the number of rows and c is the number of columns in the contingency table.\n",
    "\n",
    "#### In this case, df = (2-1)*(3-1) = 2\n",
    "\n",
    "#### #### Critical Value:\n",
    "\n",
    "#### We can look up the critical value for a chi-square distribution with 2 degrees of freedom and a significance level of 0.01 in a chi-square table. The critical value is 9.21.\n",
    "\n",
    "#### #### Chi-Square Test Calculation:\n",
    "\n",
    "#### We can now calculate the chi-square test statistic using the formula:\n",
    "\n",
    "#### #### χ² = Σ[(O - E)²/E]\n",
    "\n",
    "#### where Σ is the sum of all cells in the contingency table, O is the observed frequency, and E is the expected frequency.\n",
    "\n",
    "#### #### Using the observed and expected frequencies, we can calculate the chi-square test statistic as follows:\n",
    "  ####   χ² = [(200-212.5)²/212.5] + [(150-162.5)²/162.5] + [(150-125)²/125] + [(225-212.5)²/212.5] + [(175-162.5)²/162.5] + [(100-125)²/125] = 18.56\n",
    "\n",
    "#### Since the calculated chi-square test statistic (18.56) is greater than the critical value (9.21), we reject the null hypothesis. Therefore, we can conclude that there is a significant association between chocolate preference and country of origin at a significance level of 0.01."
   ]
  },
  {
   "cell_type": "markdown",
   "id": "76894712-a2fe-4034-809e-eb087c9640fe",
   "metadata": {},
   "source": [
    "## Q11. A random sample of 30 people was selected from a population with an unknown mean and standard deviation. The sample mean was found to be 72 and the sample standard deviation was found to be 10. Conduct a hypothesis test to determine if the population mean is significantly different from 70. Use a significance level of 0.05."
   ]
  },
  {
   "cell_type": "markdown",
   "id": "b3f0c34a-4c45-4919-ae85-442fd9adb29d",
   "metadata": {},
   "source": [
    "#### To conduct a hypothesis test for the population mean, we need to define our null and alternative hypotheses, calculate the test statistic, and compare it to the critical value or p-value.\n",
    "\n",
    "#### Null Hypothesis: H0: μ = 70 (The population mean is equal to 70)\n",
    "\n",
    "#### Alternative Hypothesis: Ha: μ ≠ 70 (The population mean is significantly different from 70)\n",
    "\n",
    "#### Level of Significance: α = 0.05\n",
    "\n",
    "#### Test Statistic: We can calculate the test statistic using the formula:\n",
    "\n",
    "#### t = (x̄ - μ) / (s / √n)\n",
    "\n",
    "#### where x̄ is the sample mean, μ is the hypothesized population mean, s is the sample standard deviation, and n is the sample size.\n",
    "\n",
    "#### In this case, x̄ = 72, μ = 70, s = 10, and n = 30. Therefore, the test statistic can be calculated as follows:\n",
    "\n",
    "#### t = (72 - 70) / (10 / √30) = 1.385\n",
    "\n",
    "#### Degrees of Freedom: The degrees of freedom (df) for a t-test can be calculated as (n - 1), where n is the sample size. In this case, df = 29.\n",
    "\n",
    "#### Critical Value: We can find the critical value for a two-tailed t-test with 29 degrees of freedom and a significance level of 0.05 using a t-distribution table or a statistical software. The critical values are ±2.045.\n",
    "\n",
    "#### P-Value: Alternatively, we can find the p-value associated with the test statistic using a t-distribution table or a statistical software. The p-value for a two-tailed test with a t-statistic of 1.385 and 29 degrees of freedom is approximately 0.177.\n",
    "\n",
    "#### Conclusion: Since the calculated t-value (1.385) is less than the critical value (±2.045) and the p-value (0.177) is greater than the significance level (0.05), we fail to reject the null hypothesis. Therefore, we can conclude that there is not enough evidence to suggest that the population mean is significantly different from 70 at a significance level of 0.05."
   ]
  },
  {
   "cell_type": "code",
   "execution_count": null,
   "id": "0e15d65f-2774-415a-84e1-f8b420d773e4",
   "metadata": {},
   "outputs": [],
   "source": []
  },
  {
   "cell_type": "code",
   "execution_count": null,
   "id": "6f704c78-ca14-46eb-82c0-071f77f03695",
   "metadata": {},
   "outputs": [],
   "source": []
  }
 ],
 "metadata": {
  "kernelspec": {
   "display_name": "Python 3 (ipykernel)",
   "language": "python",
   "name": "python3"
  },
  "language_info": {
   "codemirror_mode": {
    "name": "ipython",
    "version": 3
   },
   "file_extension": ".py",
   "mimetype": "text/x-python",
   "name": "python",
   "nbconvert_exporter": "python",
   "pygments_lexer": "ipython3",
   "version": "3.10.8"
  }
 },
 "nbformat": 4,
 "nbformat_minor": 5
}
