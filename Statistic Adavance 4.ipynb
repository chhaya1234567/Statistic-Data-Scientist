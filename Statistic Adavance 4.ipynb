{
 "cells": [
  {
   "cell_type": "markdown",
   "id": "7aa55294-8c49-402c-a4d4-4a28fa659aac",
   "metadata": {},
   "source": [
    "## Q1: What is the difference between a t-test and a z-test? Provide an example scenario where you would use each type of test."
   ]
  },
  {
   "cell_type": "markdown",
   "id": "c123a452-0b60-4d2d-80d6-c5e6b9b63c0b",
   "metadata": {},
   "source": [
    "#### The main difference between a t-test and a z-test is the type of inference they are used for. A t-test is used when the sample size is small (less than 30) and the population standard deviation is unknown, whereas a z-test is used when the sample size is large (greater than or equal to 30) and the population standard deviation is known or estimated.\n",
    "\n",
    "#### A scenario where a t-test would be appropriate is when a researcher wants to compare the mean weight loss of two groups of people who are following different diets. The researcher randomly selects 20 participants from each group and measures their weight loss after two months. Since the sample size is less than 30 and the population standard deviation is unknown, a t-test would be appropriate to determine if there is a statistically significant difference in weight loss between the two groups.\n",
    "\n",
    "#### A scenario where a z-test would be appropriate is when a researcher wants to compare the mean scores of two groups of students on a standardized test. The researcher randomly selects 100 students from each group and records their scores. Since the sample size is large (greater than or equal to 30) and the population standard deviation can be estimated from the sample, a z-test would be appropriate to determine if there is a statistically significant difference in scores between the two groups."
   ]
  },
  {
   "cell_type": "markdown",
   "id": "19505b6c-e39f-4907-9b3a-46d0db60d6fe",
   "metadata": {},
   "source": [
    "## Q2: Differentiate between one-tailed and two-tailed tests."
   ]
  },
  {
   "cell_type": "markdown",
   "id": "7f14344e-b139-477f-bff1-fdaab32184d8",
   "metadata": {},
   "source": [
    "#### One-tailed and two-tailed tests refer to the directionality of the statistical hypothesis being tested.\n",
    "\n",
    "#### In a two-tailed test, the null hypothesis states that there is no difference or relationship between two variables, while the alternative hypothesis states that there is a difference or relationship between the variables, but it does not specify the direction of the difference or relationship. For example, in a study comparing the mean height of men and women, the null hypothesis would be that there is no difference in mean height between men and women, and the alternative hypothesis would be that there is a difference in mean height between men and women, but it does not specify whether men are taller or women are taller.\n",
    "\n",
    "#### In a one-tailed test, the null hypothesis states that there is no difference or relationship between two variables, while the alternative hypothesis specifies the direction of the difference or relationship. For example, in a study comparing the mean height of men and women, a one-tailed test could be used to test the hypothesis that men are taller than women. The null hypothesis would be that there is no difference in mean height between men and women, and the alternative hypothesis would be that men are taller than women.\n",
    "\n",
    "#### In general, a one-tailed test is used when there is a clear theoretical reason to expect the difference or relationship to occur in a specific direction, while a two-tailed test is used when there is no clear theoretical reason to expect the difference or relationship to occur in a specific direction."
   ]
  },
  {
   "cell_type": "markdown",
   "id": "20b97a8b-63c3-4357-a68a-fa85350ddd86",
   "metadata": {},
   "source": [
    "## Q3: Explain the concept of Type 1 and Type 2 errors in hypothesis testing. Provide an example scenario for each type of error."
   ]
  },
  {
   "cell_type": "markdown",
   "id": "c99e807b-8adf-4080-94b5-36c956903f69",
   "metadata": {},
   "source": [
    "#### In hypothesis testing, Type 1 and Type 2 errors are two possible errors that can occur.\n",
    "\n",
    "#### Type 1 error occurs when the null hypothesis is rejected even though it is true. This means that the researcher concludes that there is a significant difference or effect when there is actually none in the population. The probability of making a Type 1 error is denoted by alpha, and it is typically set at a predetermined level (e.g., 0.05 or 0.01) before conducting the hypothesis test. An example scenario for Type 1 error is a drug trial where the null hypothesis is that the drug does not have any effect, and the alternative hypothesis is that the drug has an effect. If the researchers conclude that the drug has an effect, but it actually does not, then it is a Type 1 error.\n",
    "\n",
    "#### Type 2 error occurs when the null hypothesis is not rejected even though it is false. This means that the researcher fails to conclude that there is a significant difference or effect when there is actually one in the population. The probability of making a Type 2 error is denoted by beta. An example scenario for Type 2 error is a medical test where the null hypothesis is that the patient is healthy, and the alternative hypothesis is that the patient is sick. If the test results indicate that the patient is healthy, but the patient is actually sick, then it is a Type 2 error.\n",
    "\n",
    "#### In hypothesis testing, there is always a trade-off between Type 1 and Type 2 errors. Decreasing the probability of one type of error increases the probability of the other type of error. Therefore, the appropriate level of alpha and beta depends on the specific situation and the consequences of making each type of error."
   ]
  },
  {
   "cell_type": "markdown",
   "id": "f92dd8bb-6f9b-4fc0-ab89-906bdad9306d",
   "metadata": {},
   "source": [
    "## Q4: Explain Bayes's theorem with an example."
   ]
  },
  {
   "cell_type": "markdown",
   "id": "db4dee96-4b33-4901-a6f9-d3d229df9b40",
   "metadata": {},
   "source": [
    "#### Bayes's theorem is a fundamental concept in probability theory that describes the probability of an event based on prior knowledge or evidence. The theorem states that the probability of an event occurring given some evidence is equal to the prior probability of the event multiplied by the likelihood of the evidence given the event, divided by the probability of the evidence.\n",
    "\n",
    "#### Mathematically, Bayes's theorem can be written as:\n",
    "\n",
    "#### P(A|B) = P(B|A) * P(A) / P(B)\n",
    "\n",
    "#### where P(A|B) is the conditional probability of event A given event B, P(B|A) is the conditional probability of event B given event A, P(A) is the prior probability of event A, and P(B) is the probability of event B.\n",
    "\n",
    "#### An example scenario where Bayes's theorem can be applied is in medical diagnosis. Let's say a certain disease affects 1 in 1000 people in the general population. A diagnostic test for the disease has a sensitivity of 95% and a specificity of 98%. This means that the test correctly identifies 95% of people who have the disease (true positives) and correctly identifies 98% of people who do not have the disease (true negatives).\n",
    "\n",
    "#### Suppose a person tests positive for the disease. What is the probability that the person actually has the disease?\n",
    "\n",
    "#### Using Bayes's theorem, we can calculate the probability as follows:\n",
    "\n",
    "#### P(disease | positive test) = P(positive test | disease) * P(disease) / P(positive test)\n",
    "\n",
    "#### The probability of a positive test given the person has the disease is the sensitivity of the test, which is 0.95. The prior probability of the person having the disease is 0.001. The probability of a positive test can be calculated as the sum of the probability of a true positive (0.95 * 0.001) and the probability of a false positive (0.02 * 0.999), which is 0.0218.\n",
    "\n",
    "#### #### Substituting these values in Bayes's theorem, we get:\n",
    "\n",
    "#### P(disease | positive test) = 0.95 * 0.001 / 0.0218 ≈ 0.0436\n",
    "\n",
    "#### This means that the probability of the person actually having the disease given a positive test result is only around 4.4%, despite the high sensitivity of the test."
   ]
  },
  {
   "cell_type": "markdown",
   "id": "ed66ec14-339e-41fc-9f14-3abb954d7676",
   "metadata": {},
   "source": [
    "## Q5: What is a confidence interval? How to calculate the confidence interval, explain with an example."
   ]
  },
  {
   "cell_type": "markdown",
   "id": "2d1ffcb7-6fbb-4b5d-af64-58c1db8114db",
   "metadata": {},
   "source": [
    "#### A confidence interval is a range of values that is likely to contain an unknown population parameter with a certain level of confidence based on a sample from that population. The level of confidence represents the degree of uncertainty in the estimate, typically expressed as a percentage.\n",
    "\n",
    "#### To calculate a confidence interval, we need to determine the sample mean, sample size, sample standard deviation (or estimated population standard deviation), and the level of confidence. The confidence interval is calculated as:\n",
    "\n",
    "#### Confidence interval = sample mean ± (critical value * standard error)\n",
    "\n",
    "#### The critical value is obtained from a t-distribution table or a z-distribution table, depending on the sample size and whether the population standard deviation is known. The standard error is calculated as the standard deviation of the sample divided by the square root of the sample size.\n",
    "\n",
    "#### For example, suppose we want to estimate the average height of students in a school with 95% confidence. We take a random sample of 50 students and measure their heights. The sample mean height is 170 cm and the sample standard deviation is 5 cm. Since the population standard deviation is unknown, we use a t-distribution table to find the critical value for a 95% confidence level and 49 degrees of freedom, which is 2.01.\n",
    "\n",
    "#### The standard error can be calculated as:\n",
    "\n",
    "#### Standard error = 5 / √50 ≈ 0.71\n",
    "\n",
    "#### The confidence interval can then be calculated as:\n",
    "\n",
    "#### Confidence interval = 170 ± (2.01 * 0.71) ≈ (168.43, 171.57)\n",
    "\n",
    "#### This means that we can be 95% confident that the true average height of students in the school falls between 168.43 cm and 171.57 cm."
   ]
  },
  {
   "cell_type": "markdown",
   "id": "1f3b5941-b754-472b-afd6-40d1ef455004",
   "metadata": {},
   "source": [
    "## Q6. Use Bayes' Theorem to calculate the probability of an event occurring given prior knowledge of the event's probability and new evidence. Provide a sample problem and solution."
   ]
  },
  {
   "cell_type": "markdown",
   "id": "3b9f90bc-2935-417b-88b8-9be30c86790f",
   "metadata": {},
   "source": [
    "#### Bayes' Theorem is a mathematical formula used to calculate the probability of an event occurring based on prior knowledge and new evidence. It is used in a wide range of fields, including statistics, probability, and machine learning.\n",
    "\n",
    "#### The formula for Bayes' Theorem is as follows:\n",
    "\n",
    "#### P(A|B) = P(B|A) * P(A) / P(B)\n",
    "\n",
    "#### where: P(A|B) is the probability of event A occurring given the new evidence B P(B|A) is the probability of observing the new evidence B given that event A has occurred P(A) is the prior probability of event A occurring P(B) is the probability of observing the new evidence B\n",
    "\n",
    "#### Sample problem and solution:\n",
    "\n",
    "#### Suppose a certain disease affects 1 in 5000 people in a population. A new test for the disease has been developed that is 99% accurate (i.e., the probability of a false positive or false negative is 1%). If a person tests positive for the disease, what is the probability that they actually have the disease?\n",
    "\n",
    "#### Solution:\n",
    "\n",
    "#### Let A be the event that a person has the disease, and B be the event that they test positive for the disease. Then, using Bayes' Theorem:\n",
    "\n",
    "#### P(A|B) = P(B|A) * P(A) / P(B)\n",
    "\n",
    "#### P(A) = 1/5000 = 0.0002 P(B|A) = 0.99 (probability of testing positive given that the person has the disease) P(B|not A) = 0.01 (probability of testing positive given that the person does not have the disease) P(B) = P(B|A) * P(A) + P(B|not A) * P(not A) = 0.99 * 0.0002 + 0.01 * 0.9998 = 0.010196\n",
    "\n",
    "#### Therefore,\n",
    "\n",
    "#### P(A|B) = 0.99 * 0.0002 / 0.010196 = 0.0193\n",
    "\n",
    "#### So the probability that a person actually has the disease given a positive test result is approximately 1.93%. This means that the new test is not very effective in identifying people with the disease, and a significant number of people may be incorrectly diagnosed."
   ]
  },
  {
   "cell_type": "markdown",
   "id": "97bee521-47ba-4ac2-8776-d16db3ea238e",
   "metadata": {},
   "source": [
    "## Q7. Calculate the 95% confidence interval for a sample of data with a mean of 50 and a standard deviation of 5. Interpret the results."
   ]
  },
  {
   "cell_type": "markdown",
   "id": "1de16622-d921-4efe-8f7f-dabbe6de90ed",
   "metadata": {},
   "source": [
    "#### To calculate the 95% confidence interval for a sample of data with a mean of 50 and a standard deviation of 5, we can use the following formula:\n",
    "\n",
    "#### 95% confidence interval = sample mean ± (1.96 * standard error)\n",
    "\n",
    "#### where the standard error is calculated as:\n",
    "\n",
    "#### standard error = standard deviation / sqrt(sample size)\n",
    "\n",
    "#### Assuming a sample size of 30, we can plug in the values:\n",
    "\n",
    "#### standard error = 5 / sqrt(30) = 0.9129\n",
    "\n",
    "#### 95% confidence interval = 50 ± (1.96 * 0.9129) = [48.2028, 51.7972]\n",
    "\n",
    "#### Interpretation: The 95% confidence interval indicates that we can be 95% confident that the true population mean lies between 48.2028 and 51.7972, based on the sample mean of 50 and standard deviation of 5. This means that if we were to repeatedly sample from the population and calculate the confidence intervals, 95% of them would contain the true population mean."
   ]
  },
  {
   "cell_type": "markdown",
   "id": "98db5594-8583-4102-ab61-739207a113d8",
   "metadata": {},
   "source": [
    "## Q8. What is the margin of error in a confidence interval? How does sample size affect the margin of error? Provide an example of a scenario where a larger sample size would result in a smaller margin of error."
   ]
  },
  {
   "cell_type": "markdown",
   "id": "3cb296f8-b163-48ff-9f5d-9fc9bc6c8516",
   "metadata": {},
   "source": [
    "#### The margin of error in a confidence interval is the range of values around a sample estimate, such as a sample mean, that is likely to contain the true population parameter with a specified level of confidence. It represents the amount of uncertainty or error in the estimation process.\n",
    "\n",
    "#### Sample size is inversely proportional to the margin of error. As the sample size increases, the margin of error decreases, assuming all other factors remain constant. This is because a larger sample size reduces the variability in the data and produces a more accurate estimate of the true population parameter.\n",
    "\n",
    "#### For example, let's say we want to estimate the average height of students in a school with a 95% confidence level and a margin of error of 1 inch. If we take a sample of 50 students and find that their average height is 65 inches with a standard deviation of 3 inches, we can calculate the confidence interval as follows:\n",
    "\n",
    "#### #### Standard error = standard deviation / square root of sample size = 3 / sqrt(50) = 0.4243\n",
    "\n",
    "#### Margin of error = critical value * standard error (where critical value is obtained from a t-distribution table with 49 degrees of freedom and a 95% confidence level) = 2.009 * 0.4243 = 0.8532\n",
    "\n",
    "#### Confidence interval = sample mean +/- margin of error = 65 +/- 0.8532 = [64.15, 65.85]\n",
    "\n",
    "#### If we increase the sample size to 100 while keeping all other factors constant, the standard error will decrease, resulting in a smaller margin of error and a narrower confidence interval. This is because a larger sample size provides more information about the population and reduces the effect of random sampling errors.\n",
    "\n",
    "#### In summary, a larger sample size generally leads to a smaller margin of error, which indicates a more precise estimate of the population parameter.\n",
    "\n"
   ]
  },
  {
   "cell_type": "markdown",
   "id": "0b783bc6-2088-4872-aae2-eeef168ed2b8",
   "metadata": {},
   "source": [
    "## Q9. Calculate the z-score for a data point with a value of 75, a population mean of 70, and a population standard deviation of 5. Interpret the results."
   ]
  },
  {
   "cell_type": "markdown",
   "id": "cdbba602-f7e6-46e4-b7b4-aba632e7f29a",
   "metadata": {},
   "source": [
    "#### The formula for calculating the z-score is:\n",
    "\n",
    "#### z = (x - mu) / sigma\n",
    "\n",
    "#### where x is the data point, mu is the population mean, and sigma is the population standard deviation.\n",
    "\n",
    "#### In this case, we have:\n",
    "\n",
    "#### x = 75 mu = 70 sigma = 5\n",
    "\n",
    "#### Plugging these values into the formula, we get:\n",
    "\n",
    "#### z = (75 - 70) / 5 z = 1\n",
    "#### Therefore, the z-score for a data point of 75 with a population mean of 70 and a population standard deviation of 5 is 1.\n",
    "\n",
    "#### Interpreting the result, a z-score of 1 means that the data point is one standard deviation above the population mean. In other words, the data point of 75 is relatively higher than the population mean of 70 by one standard deviation of 5. This suggests that the data point is somewhat unusual or significant in relation to the population distribution."
   ]
  },
  {
   "cell_type": "markdown",
   "id": "7513a74f-e9f0-49a1-86c0-7dfdc703cc04",
   "metadata": {},
   "source": [
    "## Q10. In a study of the effectiveness of a new weight loss drug, a sample of 50 participants lost an average of 6 pounds with a standard deviation of 2.5 pounds. Conduct a hypothesis test to determine if the drug is significantly effective at a 95% confidence level using a t-test."
   ]
  },
  {
   "cell_type": "markdown",
   "id": "f9a1565f-86bf-415a-87c9-474fb2c98733",
   "metadata": {},
   "source": [
    "#### To conduct a hypothesis test to determine if the new weight loss drug is significantly effective, we can use a t-test with the following null and alternative hypotheses:\n",
    "\n",
    "#### Null hypothesis: The true population mean weight loss is not significantly different from 0. Alternative hypothesis: The true population mean weight loss is significantly greater than 0.\n",
    "\n",
    "#### We can set the significance level at 0.05, which corresponds to a 95% confidence level.\n",
    "\n",
    "#### The t-statistic can be calculated as follows:\n",
    "\n",
    "#### t = (sample mean - hypothesized population mean) / (standard deviation / sqrt(sample size)) t = (6 - 0) / (2.5 / sqrt(50)) t = 12.2474\n",
    "\n",
    "#### The degrees of freedom for a t-distribution with n-1 degrees of freedom is 49, which is the sample size minus 1.\n",
    "\n",
    "#### Using a t-distribution table or a t-distribution calculator with 49 degrees of freedom and a significance level of 0.05 (one-tailed test), we find that the critical t-value is 1.676.\n",
    "\n",
    "#### Since our calculated t-value of 12.2474 is greater than the critical t-value of 1.676, we can reject the null hypothesis and conclude that the new weight loss drug is significantly effective at a 95% confidence level.\n",
    "\n",
    "#### In other words, we have sufficient evidence to suggest that the mean weight loss from the new drug is significantly greater than 0, based on our sample of 50 participants who lost an average of 6 pounds with a standard deviation of 2.5 pounds."
   ]
  },
  {
   "cell_type": "markdown",
   "id": "d62f13a4-bbd5-48b2-94ff-f06f82e14fa0",
   "metadata": {},
   "source": [
    "## Q11. In a survey of 500 people, 65% reported being satisfied with their current job. Calculate the 95% confidence interval for the true proportion of people who are satisfied with their job."
   ]
  },
  {
   "cell_type": "markdown",
   "id": "cde63bd3-f1ea-4bee-941f-cece9bbb67fb",
   "metadata": {},
   "source": [
    "#### We can use the formula for the confidence interval for a proportion:\n",
    "\n",
    "#### CI = p̂ ± z*(√(p̂(1-p̂)/n))\n",
    "\n",
    "#### Where:\n",
    "\n",
    "#### p̂ is the sample proportion (65% or 0.65 in this case) z is the z-score associated with the desired level of confidence (95% or 1.96 for a two-tailed test) n is the sample size (500 in this case) Plugging in the values, we get:\n",
    "\n",
    "#### CI = 0.65 ± 1.96(√(0.65(1-0.65)/500))\n",
    "\n",
    "#### CI = 0.65 ± 0.042\n",
    "\n",
    "#### CI = (0.608, 0.692)\n",
    "\n",
    "#### Therefore, we can say with 95% confidence that the true proportion of people who are satisfied with their job is between 60.8% and 69.2%."
   ]
  },
  {
   "cell_type": "markdown",
   "id": "31d9236a-50ad-47dc-9e47-7b6e0e3770c4",
   "metadata": {},
   "source": [
    "## Q12. A researcher is testing the effectiveness of two different teaching methods on student performance. Sample A has a mean score of 85 with a standard deviation of 6, while sample B has a mean score of 82 with a standard deviation of 5. Conduct a hypothesis test to determine if the two teaching methods have a significant difference in student performance using a t-test with a significance level of 0.01."
   ]
  },
  {
   "cell_type": "markdown",
   "id": "def922fc-b619-41a3-a872-7b362fbf089f",
   "metadata": {},
   "source": [
    "#### To test the hypothesis that the two teaching methods have a significant difference in student performance, we can use a two-sample t-test.\n",
    "\n",
    "#### The null hypothesis is that there is no significant difference in the mean scores of the two teaching methods:\n",
    "\n",
    "#### H0: μA - μB = 0\n",
    "\n",
    "#### The alternative hypothesis is that there is a significant difference in the mean scores of the two teaching methods:\n",
    "\n",
    "#### Ha: μA - μB ≠ 0\n",
    "\n",
    "#### We can calculate the t-statistic using the formula:\n",
    "\n",
    "#### t = (x̄A - x̄B) / √((sA^2 / nA) + (sB^2 / nB))\n",
    "\n",
    "#### Where:\n",
    "\n",
    "#### x̄A is the mean score of sample A (85) x̄B is the mean score of sample B (82) sA is the standard deviation of sample A (6) sB is the standard deviation of sample B (5) nA is the sample size of sample A nB is the sample size of sample B We don't know the sample size of sample B, so we assume they are the same (nA = nB = n). Then, we can calculate the pooled standard deviation:\n",
    "\n",
    "#### sp = √(((nA - 1)sA^2 + (nB - 1)sB^2) / (nA + nB - 2))\n",
    "\n",
    "#### And then, we can calculate the degrees of freedom:\n",
    "\n",
    "#### df = nA + nB - 2\n",
    "\n",
    "#### Now we can calculate the t-statistic:\n",
    "\n",
    "#### t = (x̄A - x̄B) / (sp * √(2/n))\n",
    "\n",
    "#### Plugging in the values, we get:\n",
    "\n",
    "#### t = (85 - 82) / (√(((499)(6^2) + (499)(5^2)) / (2499 - 2)) √(2/499))\n",
    "\n",
    "#### t = 7.05\n",
    "#### Using a t-distribution table or calculator with 998 degrees of freedom and a significance level of 0.01 (two-tailed test), we find that the critical t-value is ±2.576.\n",
    "\n",
    "#### Since the calculated t-value (7.05) is greater than the critical t-value (2.576), we can reject the null hypothesis and conclude that there is a significant difference in the mean scores of the two teaching methods at the 0.01 significance level. Therefore, we can say that one teaching method is more effective than the other in terms of student performance."
   ]
  },
  {
   "cell_type": "markdown",
   "id": "b2621ca0-1056-4215-aff5-22fad9a14ca6",
   "metadata": {},
   "source": [
    "## Q13. A population has a mean of 60 and a standard deviation of 8. A sample of 50 observations has a mean of 65. Calculate the 90% confidence interval for the true population mean."
   ]
  },
  {
   "cell_type": "markdown",
   "id": "cba975b0-4d7f-4f54-9d9f-bf2d84d7f4d7",
   "metadata": {},
   "source": [
    "#### We can use the formula for the confidence interval for a population mean:\n",
    "\n",
    "#### CI = x̄ ± z*(s/√n)\n",
    "\n",
    "#### Where:\n",
    "\n",
    "#### x̄ is the sample mean (65 in this case) z is the z-score associated with the desired level of confidence (90%, or 1.645 for a one-tailed test) s is the population standard deviation (8 in this case) n is the sample size (50 in this case) Plugging in the values, we get:\n",
    "\n",
    "#### CI = 65 ± 1.645*(8/√50)\n",
    "\n",
    "#### CI = 65 ± 2.82\n",
    "\n",
    "#### CI = (62.18, 67.82)\n",
    "\n",
    "#### Therefore, we can say with 90% confidence that the true population mean is between 62.18 and 67.82."
   ]
  },
  {
   "cell_type": "markdown",
   "id": "11711af6-4012-4580-b85b-8061e8817f80",
   "metadata": {},
   "source": [
    "## Q14. In a study of the effects of caffeine on reaction time, a sample of 30 participants had an average reaction time of 0.25 seconds with a standard deviation of 0.05 seconds. Conduct a hypothesis test to determine if the caffeine has a significant effect on reaction time at a 90% confidence level using a t-test."
   ]
  },
  {
   "cell_type": "markdown",
   "id": "ab1b0e02-feeb-4cf3-9520-6d6aeb18b2f7",
   "metadata": {},
   "source": [
    "#### To test the hypothesis that caffeine has a significant effect on reaction time, we can use a one-sample t-test.\n",
    "\n",
    "#### The null hypothesis is that caffeine has no effect on reaction time:\n",
    "\n",
    "#### H0: μ = 0.25\n",
    "\n",
    "#### The alternative hypothesis is that caffeine has a significant effect on reaction time:\n",
    "\n",
    "#### Ha: μ ≠ 0.25\n",
    "\n",
    "#### We can calculate the t-statistic using the formula:\n",
    "\n",
    "#### t = (x̄ - μ) / (s / √n)\n",
    "\n",
    "#### Where:\n",
    "\n",
    "#### x̄ is the sample mean (0.25) μ is the hypothesized population mean (0.25) s is the sample standard deviation (0.05) n is the sample size (30) Plugging in the values, we get:\n",
    "\n",
    "#### t = (0.25 - 0.25) / (0.05 / √30)\n",
    "\n",
    "#### t = 0\n",
    "\n",
    "#### The calculated t-value is 0, which means that the sample mean is exactly equal to the hypothesized population mean.\n",
    "\n",
    "#### Using a t-distribution table or calculator with 29 degrees of freedom and a significance level of 0.1 (one-tailed test), we find that the critical t-value is 1.699.\n",
    "\n",
    "#### Since the calculated t-value (0) is less than the critical t-value (1.699), we fail to reject the null hypothesis and conclude that there is not enough evidence to say that caffeine has a significant effect on reaction time at the 90% confidence level.\n",
    "\n",
    "#### Therefore, we cannot conclude that caffeine has a significant effect on reaction time based on this study."
   ]
  },
  {
   "cell_type": "code",
   "execution_count": null,
   "id": "1826fcdb-199c-471e-a254-d2654997f386",
   "metadata": {},
   "outputs": [],
   "source": []
  }
 ],
 "metadata": {
  "kernelspec": {
   "display_name": "Python 3 (ipykernel)",
   "language": "python",
   "name": "python3"
  },
  "language_info": {
   "codemirror_mode": {
    "name": "ipython",
    "version": 3
   },
   "file_extension": ".py",
   "mimetype": "text/x-python",
   "name": "python",
   "nbconvert_exporter": "python",
   "pygments_lexer": "ipython3",
   "version": "3.10.8"
  }
 },
 "nbformat": 4,
 "nbformat_minor": 5
}
