{
 "cells": [
  {
   "cell_type": "markdown",
   "id": "eac9abd0-3bba-495f-a787-89be68d0cec2",
   "metadata": {},
   "source": [
    "## Q1. What are the three measures of central tendency?"
   ]
  },
  {
   "cell_type": "markdown",
   "id": "59749349-2dc6-472e-8069-ad9f81e136d4",
   "metadata": {},
   "source": [
    "#### The three measures of central tendency are:\n",
    "\n",
    "#### **Mean**: The mean is the sum of all the values in a dataset divided by the total number of values. It is also known as the average.\n",
    "\n",
    "#### **Median**: The median is the middle value in a dataset when the values are arranged in order. If there is an even number of values, the median is the average of the two middle values.\n",
    "\n",
    "#### **Mode**: The mode is the value that appears most frequently in a dataset. A dataset can have one or more modes, or it can have no mode if no value appears more than once."
   ]
  },
  {
   "cell_type": "markdown",
   "id": "81840cbe-ed9b-45ec-a3db-d070ebedce9c",
   "metadata": {},
   "source": [
    "## Q2. What is the difference between the mean, median, and mode? How are they used to measure the central tendency of a dataset?"
   ]
  },
  {
   "cell_type": "markdown",
   "id": "a6b538dc-42e6-4f1b-8ef5-decffd889a67",
   "metadata": {},
   "source": [
    "#### The mean, median, and mode are all measures of central tendency, but they differ in how they describe the typical value of a dataset.\n",
    "\n",
    "#### The mean is the arithmetic average of a dataset and is found by adding up all the values in the dataset and dividing by the total number of values. It is sensitive to outliers, meaning that if there are extreme values in the dataset, they can significantly affect the value of the mean. The mean is often used as a measure of central tendency when the dataset is normally distributed.\n",
    "\n",
    "#### The median is the middle value in a dataset when the values are arranged in order. It is less sensitive to outliers than the mean, meaning that extreme values do not affect the median as much. The median is often used as a measure of central tendency when the dataset is skewed or has outliers.\n",
    "\n",
    "#### The mode is the value that appears most frequently in a dataset. It is useful for identifying the most common value in a dataset and can be used as a measure of central tendency when the dataset is nominal or categorical.\n",
    "\n",
    "#### In summary, the mean, median, and mode are used to describe the typical value of a dataset. The mean is sensitive to outliers and is used for normally distributed data. The median is less sensitive to outliers and is used for skewed or outlier-prone data. The mode is used for nominal or categorical data to identify the most common value."
   ]
  },
  {
   "cell_type": "markdown",
   "id": "a134e8fc-a33d-418e-948d-d6ab02af49df",
   "metadata": {},
   "source": [
    "## Q3. Measure the three measures of central tendency for the given height data: [178,177,176,177,178.2,178,175,179,180,175,178.9,176.2,177,172.5,178,176.5]"
   ]
  },
  {
   "cell_type": "code",
   "execution_count": 1,
   "id": "f788cd53-c49b-4e57-bb1b-c635f83ddd2f",
   "metadata": {},
   "outputs": [
    {
     "name": "stdout",
     "output_type": "stream",
     "text": [
      "177.01875\n",
      "177.0\n",
      "ModeResult(mode=array([177.]), count=array([3]))\n"
     ]
    },
    {
     "name": "stderr",
     "output_type": "stream",
     "text": [
      "/tmp/ipykernel_711/2035120905.py:6: FutureWarning: Unlike other reduction functions (e.g. `skew`, `kurtosis`), the default behavior of `mode` typically preserves the axis it acts along. In SciPy 1.11.0, this behavior will change: the default value of `keepdims` will become False, the `axis` over which the statistic is taken will be eliminated, and the value None will no longer be accepted. Set `keepdims` to True or False to avoid this warning.\n",
      "  print(stats.mode(heights))\n"
     ]
    }
   ],
   "source": [
    "import numpy as np\n",
    "from scipy import stats\n",
    "heights= [178,177,176,177,178.2,178,175,179,180,175,178.9,176.2,177,172.5,178,176.5]\n",
    "print(np.mean(heights))\n",
    "print(np.median(heights))\n",
    "print(stats.mode(heights))"
   ]
  },
  {
   "cell_type": "code",
   "execution_count": 2,
   "id": "19c34a88-0ef1-48e7-8e10-5475bd2b4948",
   "metadata": {},
   "outputs": [
    {
     "name": "stdout",
     "output_type": "stream",
     "text": [
      "Mean height: 177.01875\n",
      "Median height: 177.0\n",
      "Mode height: 178\n"
     ]
    }
   ],
   "source": [
    "import statistics\n",
    "\n",
    "heights = [178, 177, 176, 177, 178.2, 178, 175, 179, 180, 175, 178.9, 176.2, 177, 172.5, 178, 176.5]\n",
    "mean_height = statistics.mean(heights)\n",
    "print(\"Mean height:\", mean_height)\n",
    "median_height = statistics.median(heights)\n",
    "print(\"Median height:\", median_height)\n",
    "mode_height = statistics.mode(heights)\n",
    "print(\"Mode height:\", mode_height)"
   ]
  },
  {
   "cell_type": "markdown",
   "id": "953c174b-e492-4707-a34b-0d0093679062",
   "metadata": {},
   "source": [
    "## Q4. Find the standard deviation for the given data: [178,177,176,177,178.2,178,175,179,180,175,178.9,176.2,177,172.5,178,176.5]"
   ]
  },
  {
   "cell_type": "code",
   "execution_count": 3,
   "id": "902ac1fc-834d-43d5-9c18-18f6b1428f90",
   "metadata": {},
   "outputs": [
    {
     "name": "stdout",
     "output_type": "stream",
     "text": [
      "1.7885814036548633\n"
     ]
    }
   ],
   "source": [
    "import numpy as np\n",
    "data = [178, 177, 176, 177, 178.2, 178, 175, 179, 180, 175, 178.9, 176.2, 177, 172.5, 178, 176.5]\n",
    "print(np.std(data))"
   ]
  },
  {
   "cell_type": "code",
   "execution_count": 4,
   "id": "25e606c4-d63f-4131-8e76-f43ba0c3cbac",
   "metadata": {},
   "outputs": [
    {
     "name": "stdout",
     "output_type": "stream",
     "text": [
      "Standard deviation: 1.8472389305844188\n"
     ]
    }
   ],
   "source": [
    "import statistics\n",
    "\n",
    "data = [178, 177, 176, 177, 178.2, 178, 175, 179, 180, 175, 178.9, 176.2, 177, 172.5, 178, 176.5]\n",
    "\n",
    "std_dev = statistics.stdev(data)\n",
    "\n",
    "print(\"Standard deviation:\", std_dev)"
   ]
  },
  {
   "cell_type": "markdown",
   "id": "974a8042-e3f5-41f7-b046-f94a294557ba",
   "metadata": {},
   "source": [
    "## Q5. How are measures of dispersion such as range, variance, and standard deviation used to describe the spread of a dataset? Provide an example."
   ]
  },
  {
   "cell_type": "markdown",
   "id": "5433053a-f0d9-4e29-bd69-24d6437e456c",
   "metadata": {},
   "source": [
    "#### Measures of dispersion, such as range, variance, and standard deviation, are used to describe how spread out a dataset is. They provide information about how much the values in the dataset vary from the central tendency measure, such as the mean or median.\n",
    "\n",
    "#### **Range**: The range is the difference between the maximum and minimum values in a dataset. It provides a simple way to measure the spread of a dataset but is affected by outliers. A larger range indicates a wider spread of values in the dataset.\n",
    "\n",
    "#### **Variance**: The variance measures how much the values in a dataset deviate from the mean. It is calculated by taking the sum of the squared differences between each value and the mean, then dividing by the number of values in the dataset. A larger variance indicates more spread in the data.\n",
    "\n",
    "#### **Standard deviation**: The standard deviation is the square root of the variance and is a measure of the average distance of the values from the mean. It is often used to describe the spread of normally distributed data. A larger standard deviation indicates more spread in the data."
   ]
  },
  {
   "cell_type": "code",
   "execution_count": 5,
   "id": "ba8c0c47-6720-4c07-a60c-0964a7437af4",
   "metadata": {},
   "outputs": [
    {
     "name": "stdout",
     "output_type": "stream",
     "text": [
      "Range: 40\n",
      "Variance: 250\n",
      "Standard deviation: 15.811388300841896\n"
     ]
    }
   ],
   "source": [
    "import statistics\n",
    "numbers = [10, 20, 30, 40, 50]\n",
    "\n",
    "data_range = max(numbers) - min(numbers)\n",
    "print(\"Range:\", data_range)\n",
    "\n",
    "variance = statistics.variance(numbers)\n",
    "print(\"Variance:\", variance)\n",
    "\n",
    "std_dev = statistics.stdev(numbers)\n",
    "print(\"Standard deviation:\", std_dev)"
   ]
  },
  {
   "cell_type": "markdown",
   "id": "90e36cf1-0527-44b8-ad23-2d290e061aaf",
   "metadata": {},
   "source": [
    "## Q6. What is a Venn diagram?"
   ]
  },
  {
   "cell_type": "markdown",
   "id": "4796eff8-a2a9-4b43-af68-3545e32c49da",
   "metadata": {},
   "source": [
    "#### A Venn diagram is a graphical representation of the relationships between sets, often used in mathematics, statistics, logic, and computer science. It is a diagram consisting of overlapping circles (or other shapes) that represent the sets, and the areas of overlap represent the elements that belong to more than one set.\n",
    "\n",
    "#### Venn diagrams are useful for visualizing set operations, such as intersection, union, and complement, and for illustrating logical relationships between different groups of objects or concepts. They can also be used to represent data and analyze relationships between different variables."
   ]
  },
  {
   "cell_type": "markdown",
   "id": "0f9bb1b4-c462-437f-a6fe-1e2e1c5f51f7",
   "metadata": {},
   "source": [
    "## Q7. For the two given sets A = (2,3,4,5,6,7) & B = (0,2,6,8,10). Find: (i) A ⋂ B (ii) A ⋃ B"
   ]
  },
  {
   "cell_type": "markdown",
   "id": "5df2a8eb-0f3b-4d9a-9210-3b238d99f11a",
   "metadata": {},
   "source": [
    "#### (i) . A ⋂ B = {2} (ii) . A ⋃ B = {0, 2, 3, 4, 5, 6, 7, 8, 10}"
   ]
  },
  {
   "cell_type": "code",
   "execution_count": 6,
   "id": "767e5f49-204b-4701-8ec6-af47c5c014f9",
   "metadata": {},
   "outputs": [
    {
     "name": "stdout",
     "output_type": "stream",
     "text": [
      "A ⋂ B = {2, 6}\n",
      "A ⋃ B = {0, 2, 3, 4, 5, 6, 7, 8, 10}\n"
     ]
    }
   ],
   "source": [
    "A = {2, 3, 4, 5, 6, 7}\n",
    "B = {0, 2, 6, 8, 10}\n",
    "A_intersection_B = A.intersection(B)\n",
    "print(\"A ⋂ B =\", A_intersection_B)\n",
    "\n",
    "A_union_B = A.union(B)\n",
    "print(\"A ⋃ B =\", A_union_B)"
   ]
  },
  {
   "cell_type": "markdown",
   "id": "34ef1063-0b96-41ae-a236-311a61f57490",
   "metadata": {},
   "source": [
    "## Q8. What do you understand about skewness in data?"
   ]
  },
  {
   "cell_type": "markdown",
   "id": "a0bc006a-49c9-4690-8144-e2e799af7fcb",
   "metadata": {},
   "source": [
    "#### Skewness is a measure of the asymmetry of a probability distribution or a dataset. Skewness can be classified into three types:\n",
    "\n",
    "#### **Symmetric**: A symmetric dataset is one in which the data is evenly distributed on both sides of the central tendency. The mean, median, and mode are all equal in a symmetric dataset.\n",
    "\n",
    "#### **Right-skewed**: A right-skewed dataset is one in which the tail of the distribution extends to the right, indicating that the majority of the data is concentrated on the left-hand side of the distribution. In this case, the mean is usually greater than the median, and the mode may not be well-defined.\n",
    "\n",
    "#### **Left-skewed**: A left-skewed dataset is one in which the tail of the distribution extends to the left, indicating that the majority of the data is concentrated on the right-hand side of the distribution. In this case, the mean is usually less than the median, and the mode may not be well-defined.\n",
    "\n",
    "#### Skewness can be measured using various statistical methods, such as the Pearson's skewness coefficient, the Bowley's skewness coefficient, or the moment coefficient of skewness. These measures typically produce a numerical value that represents the degree and direction of skewness in the dataset. A positive value indicates right-skewness, while a negative value indicates left-skewness. A value of zero indicates a symmetric dataset."
   ]
  },
  {
   "cell_type": "markdown",
   "id": "ab5019fd-e006-4c4b-a7fa-537407c4e91a",
   "metadata": {},
   "source": [
    "## Q9. If a data is right skewed then what will be the position of median with respect to mean?"
   ]
  },
  {
   "cell_type": "markdown",
   "id": "72886f7f-f5c4-4721-ac02-bbcf021cd653",
   "metadata": {},
   "source": [
    "####  If a dataset is right-skewed, then the median is typically less than the mean. This is because in a right-skewed dataset, the tail of the distribution extends to the right, indicating that there are a few very large values that pull the mean towards the right. As a result, the mean is typically higher than the median, which is the value that separates the lower 50% of the data from the upper 50%. The median is usually closer to the lower end of the data in a right-skewed distribution."
   ]
  },
  {
   "cell_type": "markdown",
   "id": "62fbd074-0e33-4c34-b746-9b5c02b3e191",
   "metadata": {},
   "source": [
    "## Q10. Explain the difference between covariance and correlation. How are these measures used in statistical analysis?"
   ]
  },
  {
   "cell_type": "markdown",
   "id": "109469d0-7deb-41ad-aa01-d9266aa9b8c5",
   "metadata": {},
   "source": [
    "#### Covariance and correlation are both measures of the relationship between two variables, but they have some key differences.\n",
    "\n",
    "#### Covariance measures the degree to which two variables vary together. It is a measure of the joint variability of two random variables, and it is sensitive to the units of measurement. Covariance can be positive, indicating that the two variables tend to move in the same direction, or negative, indicating that they tend to move in opposite directions. However, it does not tell us the strength or direction of the relationship.\n",
    "\n",
    "#### Correlation, on the other hand, measures the strength and direction of the linear relationship between two variables. It is a standardized measure, which means that it is not affected by the units of measurement. Correlation can range from -1 to +1, where -1 indicates a perfect negative relationship, +1 indicates a perfect positive relationship, and 0 indicates no relationship at all.\n",
    "\n",
    "#### In statistical analysis, both covariance and correlation are used to understand the relationship between two variables. However, correlation is generally preferred over covariance because it is standardized and easier to interpret. Correlation is also used to identify trends, make predictions, and develop models in regression analysis. Covariance is used less frequently, but it can still be useful in certain situations, such as portfolio analysis in finance.\n",
    "\n",
    "#### Overall, while both covariance and correlation measure the relationship between two variables, correlation is a more commonly used measure due to its standardization and interpretability."
   ]
  },
  {
   "cell_type": "markdown",
   "id": "10162a5b-0587-45ba-a380-6e95bc636a48",
   "metadata": {},
   "source": [
    "## Q11. What is the formula for calculating the sample mean? Provide an example calculation for a dataset."
   ]
  },
  {
   "cell_type": "markdown",
   "id": "61d3f56d-3029-4306-82e1-e200477b440e",
   "metadata": {},
   "source": [
    "#### The formula for calculating the sample mean is: sample mean = sum of all observations / number of observations"
   ]
  },
  {
   "cell_type": "code",
   "execution_count": 7,
   "id": "1e5ca7a7-e018-4bad-b682-92252ba91008",
   "metadata": {},
   "outputs": [
    {
     "name": "stdout",
     "output_type": "stream",
     "text": [
      "The sample mean is: 84.7\n"
     ]
    }
   ],
   "source": [
    "scores = [78, 92, 85, 90, 87, 74, 80, 82, 88, 91]\n",
    "\n",
    "sum_scores = sum(scores)\n",
    "\n",
    "n_scores = len(scores)\n",
    "\n",
    "sample_mean = sum_scores / n_scores\n",
    "\n",
    "print(\"The sample mean is:\", sample_mean)"
   ]
  },
  {
   "cell_type": "markdown",
   "id": "757c3901-edfa-4eae-8758-2e0247e32c69",
   "metadata": {},
   "source": [
    "## Q12. For a normal distribution data what is the relationship between its measure of central tendency?"
   ]
  },
  {
   "cell_type": "markdown",
   "id": "878049fb-a310-4d4f-9943-91a884d35a4f",
   "metadata": {},
   "source": [
    "#### For a normal distribution data, the measures of central tendency, namely mean, median, and mode, are equal to each other.\n",
    "\n",
    "#### This is because the normal distribution is a symmetric distribution, which means that the left half of the distribution is a mirror image of the right half. Therefore, the mean, median, and mode will all be located at the center of the distribution.\n",
    "\n",
    "#### In fact, for any symmetric distribution, the mean, median, and mode will all be equal. However, for skewed distributions, the mean, median, and mode will generally be different, and the relationship between them will depend on the shape of the distribution."
   ]
  },
  {
   "cell_type": "markdown",
   "id": "e7eeb6a8-4035-461f-8653-db52f5c007bf",
   "metadata": {},
   "source": [
    "## Q13. How is covariance different from correlation?"
   ]
  },
  {
   "cell_type": "markdown",
   "id": "a9a11a84-c3d8-4feb-ae8a-2787aa9d4494",
   "metadata": {},
   "source": [
    "#### Covariance and correlation are both measures of the relationship between two variables, but they differ in their scale and interpretation.\n",
    "\n",
    "#### Covariance is a measure of the degree to which two variables vary together. It measures the joint variability of two random variables and is sensitive to the units of measurement. Covariance can be positive, indicating that the two variables tend to move in the same direction, or negative, indicating that they tend to move in opposite directions. However, covariance does not provide any information about the strength or direction of the relationship between the two variables.\n",
    "\n",
    "#### On the other hand, correlation is a standardized measure of the linear relationship between two variables. It ranges from -1 to +1, where -1 indicates a perfect negative relationship, +1 indicates a perfect positive relationship, and 0 indicates no relationship at all. Correlation is not affected by the units of measurement, and it provides information about both the strength and direction of the relationship between the two variables.\n",
    "\n",
    "#### In summary, covariance is a measure of the joint variability of two variables, while correlation is a measure of the linear relationship between two variables that has been standardized to eliminate the influence of the scale or units of measurement."
   ]
  },
  {
   "cell_type": "markdown",
   "id": "c3d0a886-c013-40f6-af1c-05d4cc1074a3",
   "metadata": {},
   "source": [
    "## Q14. How do outliers affect measures of central tendency and dispersion? Provide an example."
   ]
  },
  {
   "cell_type": "markdown",
   "id": "d0cf6ef4-dec7-4364-bd45-b011aa79c2ac",
   "metadata": {},
   "source": [
    "#### Outliers are data points that are significantly different from other data points in a dataset. They can have a significant effect on measures of central tendency and dispersion, especially on the mean and standard deviation.\n",
    "\n",
    "#### For example, consider the following dataset of exam scores:"
   ]
  },
  {
   "cell_type": "code",
   "execution_count": 8,
   "id": "e6a5923e-be45-458c-8320-51520cd72e0a",
   "metadata": {},
   "outputs": [],
   "source": [
    "scores = [78, 92, 85, 90, 87, 74, 80, 82, 88, 191]"
   ]
  },
  {
   "cell_type": "markdown",
   "id": "837a7e9e-496c-40b7-b538-2e84d92716c5",
   "metadata": {},
   "source": [
    "#### In this dataset, the score of 191 is an outlier, as it is significantly higher than the other scores. If we calculate the measures of central tendency and dispersion for this dataset, we get:"
   ]
  },
  {
   "cell_type": "code",
   "execution_count": 9,
   "id": "753e8d58-7d3d-4c9f-8d59-2b6707ca8af3",
   "metadata": {},
   "outputs": [
    {
     "name": "stdout",
     "output_type": "stream",
     "text": [
      "Mean: 94.7\n",
      "Median: 86.0\n",
      "Standard deviation: 32.53628743418646\n"
     ]
    }
   ],
   "source": [
    "import numpy as np\n",
    "\n",
    "scores = [78, 92, 85, 90, 87, 74, 80, 82, 88, 191]\n",
    "mean = np.mean(scores)\n",
    "print(\"Mean:\", mean)\n",
    "\n",
    "median = np.median(scores)\n",
    "print(\"Median:\", median)\n",
    "\n",
    "std_dev = np.std(scores)\n",
    "print(\"Standard deviation:\", std_dev)"
   ]
  },
  {
   "cell_type": "markdown",
   "id": "f09652d4-dcaf-40a9-9fbe-c016bc74f9ec",
   "metadata": {},
   "source": [
    "#### The mean is higher than the median, indicating that the presence of the outlier has pulled the mean upward. The standard deviation is also higher than it would be without the outlier, indicating that the data is more spread out than it would be without the outlier.\n",
    "\n",
    "#### In general, outliers can have a significant impact on the mean and standard deviation, as they pull these measures in the direction of the outlier. This can make the data appear more spread out or less representative of the true distribution. However, outliers have less of an impact on the median and other measures of central tendency that are less affected by extreme values."
   ]
  },
  {
   "cell_type": "code",
   "execution_count": null,
   "id": "35668053-06f9-4348-bcfb-94b1e034eb31",
   "metadata": {},
   "outputs": [],
   "source": []
  }
 ],
 "metadata": {
  "kernelspec": {
   "display_name": "Python 3 (ipykernel)",
   "language": "python",
   "name": "python3"
  },
  "language_info": {
   "codemirror_mode": {
    "name": "ipython",
    "version": 3
   },
   "file_extension": ".py",
   "mimetype": "text/x-python",
   "name": "python",
   "nbconvert_exporter": "python",
   "pygments_lexer": "ipython3",
   "version": "3.10.8"
  }
 },
 "nbformat": 4,
 "nbformat_minor": 5
}
