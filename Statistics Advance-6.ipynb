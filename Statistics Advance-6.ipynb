{
 "cells": [
  {
   "cell_type": "markdown",
   "id": "a1275925-3a92-40ae-a573-08117137c164",
   "metadata": {},
   "source": [
    "## Q1. Explain the assumptions required to use ANOVA and provide examples of violations that could impact the validity of the results."
   ]
  },
  {
   "cell_type": "markdown",
   "id": "62258d2e-8c40-499f-9319-86c39d1e4809",
   "metadata": {},
   "source": [
    "#### ANOVA (Analysis of Variance) is a statistical technique used to analyze the differences between means of two or more groups. The assumptions required for using ANOVA are:\n",
    "\n",
    "#### **Independence of observations**: The observations in each group should be independent of each other, and there should be no relationship between the observations in different groups.\n",
    "\n",
    "#### **Normality**: The distribution of the residuals (the differences between the observed values and the predicted values) for each group should be normal.\n",
    "\n",
    "#### **Homogeneity of variance**: The variances of the residuals should be equal across all groups.\n",
    "\n",
    "#### Examples of violations that could impact the validity of ANOVA results include:\n",
    "\n",
    "#### **Violation of independence**: This occurs when the observations within each group are not independent. For example, if a study compares the test scores of siblings in a family, the scores of siblings are not independent, and ANOVA cannot be used.\n",
    "\n",
    "#### **Violation of normality**: If the residuals are not normally distributed within each group, then ANOVA results can be biased. For example, if the residuals are skewed or have extreme outliers, ANOVA may not be appropriate.\n",
    "\n",
    "#### **Violation of homogeneity of variance**: If the variances of the residuals are not equal across all groups, then ANOVA results can be affected. For example, if the variance of the residuals in one group is much larger than the others, this can lead to an incorrect conclusion.\n",
    "\n",
    "#### In summary, violating the assumptions of ANOVA can impact the validity of the results and lead to incorrect conclusions. Therefore, it is important to check for these assumptions before applying ANOVA and consider alternative methods if the assumptions are not met."
   ]
  },
  {
   "cell_type": "markdown",
   "id": "661cf2f6-23ee-4b6d-be90-f8c272621260",
   "metadata": {},
   "source": [
    "## Q2. What are the three types of ANOVA, and in what situations would each be used?"
   ]
  },
  {
   "cell_type": "markdown",
   "id": "d53102ba-f5de-4d24-90c1-9467cb0fadb6",
   "metadata": {},
   "source": [
    "#### The three types of ANOVA are:\n",
    "\n",
    "#### **One-Way ANOVA**: This type of ANOVA is used when there is only one independent variable and one dependent variable. It is used to test for differences between two or more groups. For example, if we want to compare the average scores of three different schools on a standardized test, we can use One-Way ANOVA.\n",
    "\n",
    "#### **Two-Way ANOVA**: This type of ANOVA is used when there are two independent variables and one dependent variable. It is used to test for the main effects of each independent variable and their interaction. For example, if we want to compare the effect of two different diets and two different exercise routines on weight loss, we can use Two-Way ANOVA.\n",
    "\n",
    "#### **Mixed ANOVA**: This type of ANOVA is used when there are two or more independent variables, and at least one of them is a between-subjects factor, and at least one of them is a within-subjects factor. A within-subjects factor is a variable where each participant is measured multiple times under different conditions. A between-subjects factor is a variable where different participants are assigned to different conditions. For example, if we want to compare the effect of two different types of cognitive training (between-subjects factor) and two different time points (within-subjects factor) on memory performance, we can use Mixed ANOVA.\n",
    "\n",
    "#### In summary, the choice of ANOVA depends on the number of independent variables and whether they are within-subjects or between-subjects factors. By selecting the appropriate ANOVA, we can test for the effects of different variables and their interactions."
   ]
  },
  {
   "cell_type": "markdown",
   "id": "5926146b-a856-4331-a3fb-b3cfb5e897ff",
   "metadata": {},
   "source": [
    "## Q3. What is the partitioning of variance in ANOVA, and why is it important to understand this concept?"
   ]
  },
  {
   "cell_type": "markdown",
   "id": "b43a9994-2879-4ea8-863e-4bcad5c1df9c",
   "metadata": {},
   "source": [
    "#### The partitioning of variance is a key concept in ANOVA that refers to the division of the total variation in the data into different sources of variation. The total variance is then partitioned into two components: the variation between groups and the variation within groups.\n",
    "\n",
    "#### The variation between groups represents the differences between the means of each group, and it is the source of interest in ANOVA. The variation within groups represents the differences within each group, which can be due to measurement error, individual differences, or other sources of variation.\n",
    "\n",
    "#### Understanding the partitioning of variance is important for several reasons:\n",
    "\n",
    "#### It allows us to determine whether there are significant differences between the means of different groups. If the variation between groups is significantly larger than the variation within groups, then we can conclude that there are significant differences between the means of the groups.\n",
    "\n",
    "#### It helps us to identify the sources of variation that are contributing to the overall variability in the data. By identifying the sources of variation, we can design better experiments and improve our understanding of the underlying processes.\n",
    "\n",
    "#### It allows us to estimate the effect size of the differences between the groups. By comparing the variation between groups to the variation within groups, we can compute an effect size, which is a measure of the strength of the differences between the groups.\n",
    "\n",
    "#### In summary, understanding the partitioning of variance is crucial for interpreting the results of ANOVA and for making valid conclusions about the differences between groups. It allows us to determine whether the differences between groups are significant, identify the sources of variation, and estimate the effect size of the differences."
   ]
  },
  {
   "cell_type": "markdown",
   "id": "642b9ade-dc58-4231-b48c-33b78e4ce56b",
   "metadata": {},
   "source": [
    "## Q4. How would you calculate the total sum of squares (SST), explained sum of squares (SSE), and residual sum of squares (SSR) in a one-way ANOVA using Python?"
   ]
  },
  {
   "cell_type": "code",
   "execution_count": 1,
   "id": "ed11d5a4-1b14-477d-8488-ea9d18bad751",
   "metadata": {},
   "outputs": [
    {
     "name": "stdout",
     "output_type": "stream",
     "text": [
      "SST: 49.875\n",
      "SSE: 0.0\n",
      "SSR: 49.875\n"
     ]
    }
   ],
   "source": [
    "import scipy.stats as stats\n",
    "\n",
    "# example data and group labels\n",
    "data = [10, 12, 14, 8, 6, 9, 11, 13]\n",
    "groups = ['A', 'A', 'B', 'B', 'C', 'C', 'C', 'C']\n",
    "\n",
    "# calculate the overall mean of the data\n",
    "overall_mean = sum(data) / len(data)\n",
    "\n",
    "# calculate the total sum of squares (SST)\n",
    "SST = sum((x - overall_mean)**2 for x in data)\n",
    "\n",
    "# calculate the group means\n",
    "group_means = [sum(data[i] for i in range(len(data)) if groups[i] == j) / groups.count(j) for j in set(groups)]\n",
    "\n",
    "# calculate the explained sum of squares (SSE)\n",
    "SSE = sum(groups.count(j) * (group_means[j] - overall_mean)**2 for j in range(len(group_means)))\n",
    "\n",
    "# calculate the residual sum of squares (SSR)\n",
    "SSR = SST - SSE\n",
    "\n",
    "print('SST:', SST)\n",
    "print('SSE:', SSE)\n",
    "print('SSR:', SSR)"
   ]
  },
  {
   "cell_type": "markdown",
   "id": "5f233e0b-3725-4a98-8d99-0669063562b9",
   "metadata": {},
   "source": [
    "## Q5. In a two-way ANOVA, how would you calculate the main effects and interaction effects using Python?"
   ]
  },
  {
   "cell_type": "code",
   "execution_count": 2,
   "id": "a808291b-82d1-49b1-ae21-1ccd57b1d55e",
   "metadata": {},
   "outputs": [
    {
     "name": "stdout",
     "output_type": "stream",
     "text": [
      "Main effect 1: 2.0000000000000018\n",
      "Main effect 2: 4.000000000000004\n",
      "Interaction effect: 8.881784197001252e-16\n"
     ]
    }
   ],
   "source": [
    "import pandas as pd\n",
    "import statsmodels.api as sm\n",
    "from statsmodels.formula.api import ols\n",
    "\n",
    "# example data\n",
    "data = pd.DataFrame({\n",
    "    'factor1': ['A', 'B', 'A', 'B', 'A', 'B', 'A', 'B'],\n",
    "    'factor2': ['X', 'X', 'Y', 'Y', 'X', 'X', 'Y', 'Y'],\n",
    "    'response': [5, 7, 9, 11, 8, 10, 12, 14]\n",
    "})\n",
    "\n",
    "# fit the linear regression model\n",
    "model = ols('response ~ C(factor1) + C(factor2) + C(factor1):C(factor2)', data).fit()\n",
    "\n",
    "# calculate the main effects\n",
    "main_effect1 = model.params['C(factor1)[T.B]']\n",
    "main_effect2 = model.params['C(factor2)[T.Y]']\n",
    "\n",
    "# calculate the interaction effect\n",
    "interaction_effect = model.params['C(factor1)[T.B]:C(factor2)[T.Y]']\n",
    "\n",
    "print('Main effect 1:', main_effect1)\n",
    "print('Main effect 2:', main_effect2)\n",
    "print('Interaction effect:', interaction_effect)"
   ]
  },
  {
   "cell_type": "markdown",
   "id": "fe3df91e-9e6a-44a4-8a25-5d39277a3272",
   "metadata": {},
   "source": [
    "## Q6. Suppose you conducted a one-way ANOVA and obtained an F-statistic of 5.23 and a p-value of 0.02. What can you conclude about the differences between the groups, and how would you interpret these results?"
   ]
  },
  {
   "cell_type": "markdown",
   "id": "04357dbe-5afd-4f11-ba1e-2aaa54b45d0f",
   "metadata": {},
   "source": [
    "#### If we conducted a one-way ANOVA and obtained an F-statistic of 5.23 and a p-value of 0.02, we can conclude that there is a statistically significant difference between at least two of the groups. Specifically, the null hypothesis, which assumes that the means of all groups are equal, can be rejected at a significance level of 0.05 (or lower), since the p-value of 0.02 is less than 0.05.\n",
    "\n",
    "#### The F-statistic of 5.23 indicates the ratio of the variance between groups to the variance within groups. A larger F-statistic suggests a larger ratio, which means the differences between the groups are more significant relative to the variation within the groups. The p-value indicates the probability of observing an F-statistic as large or larger than the observed one, assuming the null hypothesis is true.\n",
    "\n",
    "#### Therefore, we can conclude that the groups are not all equal in terms of the variable being studied. However, the ANOVA itself does not provide information on which groups differ from each other. To identify which groups are significantly different, we need to perform post-hoc tests, such as Tukey's HSD test, Bonferroni correction, or other pairwise comparisons."
   ]
  },
  {
   "cell_type": "markdown",
   "id": "1ce88034-96e1-4b18-b0cf-b3b856308224",
   "metadata": {},
   "source": [
    "## Q7. In a repeated measures ANOVA, how would you handle missing data, and what are the potential consequences of using different methods to handle missing data?"
   ]
  },
  {
   "cell_type": "markdown",
   "id": "afb34ff4-81fb-4172-9810-48e5be6225bd",
   "metadata": {},
   "source": [
    "####  Handling missing data in a repeated measures ANOVA can be challenging since the repeated measures design assumes that each participant has complete data for all measurement points. However, missing data can occur due to various reasons such as participant dropouts, technical problems, or skipped items. There are several methods to handle missing data in a repeated measures ANOVA, each with its advantages and disadvantages.\n",
    "\n",
    "#### One common approach is to use listwise deletion, which means excluding any participant who has missing data on any measurement point. This approach is straightforward and avoids introducing any assumptions about the missing data. However, listwise deletion reduces the sample size and can lead to biased estimates, particularly if the missingness is related to the outcome or other variables in the study.\n",
    "\n",
    "#### Another approach is to impute the missing data using various methods such as mean imputation, regression imputation, or multiple imputation. Imputation can help to retain the sample size and reduce bias in the estimates, but it requires making assumptions about the missing data mechanism and the distribution of the data, which can be challenging to justify.\n",
    "\n",
    "#### A third approach is to use maximum likelihood estimation (MLE), which allows for the estimation of the parameters of the repeated measures ANOVA model even when there are missing data. MLE uses all available data, including incomplete data, and models the missing data mechanism explicitly, but it can be computationally complex and may require some assumptions about the distribution of the data.\n",
    "\n",
    "#### The choice of method for handling missing data can have consequences for the validity and precision of the estimates and the power of the analysis. It is important to carefully consider the reasons for the missing data, the amount and pattern of missingness, and the assumptions underlying each method before selecting the appropriate method for handling missing data in a repeated measures ANOVA."
   ]
  },
  {
   "cell_type": "markdown",
   "id": "0f110e7d-5288-4d72-89ca-b2e2783b8f97",
   "metadata": {},
   "source": [
    "## Q8. What are some common post-hoc tests used after ANOVA, and when would you use each one? Provide an example of a situation where a post-hoc test might be necessary."
   ]
  },
  {
   "cell_type": "markdown",
   "id": "a1d7dd02-65c1-4481-a1b0-2590b864c95d",
   "metadata": {},
   "source": [
    "#### Post-hoc tests are used after ANOVA to determine which groups are significantly different from each other when the overall F-test indicates a significant difference between at least two groups. There are several common post-hoc tests that can be used, each with its advantages and disadvantages.\n",
    "\n",
    "#### Tukey's Honestly Significant Difference (HSD) test: Tukey's HSD test is a widely used post-hoc test that compares all pairs of groups to each other. It controls the family-wise error rate (FWER) and is appropriate when there are a moderate to large number of groups. For example, Tukey's HSD test could be used to compare the performance of different treatment groups in a clinical trial.\n",
    "\n",
    "#### Bonferroni correction: The Bonferroni correction is a conservative approach that adjusts the significance level for multiple comparisons. It is appropriate when there are a small number of groups and there is a concern for type I error rate. For example, the Bonferroni correction could be used to compare the performance of two different surgical procedures.\n",
    "\n",
    "#### Scheffé's test: Scheffé's test is a conservative post-hoc test that can be used for any number of groups. It controls the FWER but is less powerful than Tukey's HSD test. It is appropriate when the sample size is small, and there is a concern for type I error rate.\n",
    "\n",
    "#### Fisher's Least Significant Difference (LSD) test: Fisher's LSD test is a less conservative post-hoc test that is appropriate when there are only two groups. It controls the type I error rate but may have low power when the sample size is small.\n",
    "\n",
    "#### An example of a situation where a post-hoc test might be necessary is when we want to compare the mean scores of different groups on a particular variable. For instance, suppose we have conducted a one-way ANOVA to compare the mean exam scores of students in different schools. If the ANOVA reveals a statistically significant difference between the schools, we could use a post-hoc test such as Tukey's HSD test to determine which schools have significantly different mean exam scores."
   ]
  },
  {
   "cell_type": "markdown",
   "id": "814184a1-150e-418d-beec-929f65ceda52",
   "metadata": {},
   "source": [
    "## Q9. A researcher wants to compare the mean weight loss of three diets: A, B, and C. They collect data from 50 participants who were randomly assigned to one of the diets. Conduct a one-way ANOVA using Python to determine if there are any significant differences between the mean weight loss of the three diets. Report the F-statistic and p-value, and interpret the results."
   ]
  },
  {
   "cell_type": "code",
   "execution_count": 3,
   "id": "21fcfc8a-0098-4dc4-88bd-e23ba6392538",
   "metadata": {},
   "outputs": [
    {
     "name": "stdout",
     "output_type": "stream",
     "text": [
      "F-statistic: 20.706995475679413\n",
      "p-value: 1.1940091808281748e-08\n"
     ]
    }
   ],
   "source": [
    "import numpy as np\n",
    "import scipy.stats as stats\n",
    "\n",
    "# Generate some sample data\n",
    "np.random.seed(123)\n",
    "diet_a = np.random.normal(5, 2, size=50)\n",
    "diet_b = np.random.normal(7, 3, size=50)\n",
    "diet_c = np.random.normal(4, 1, size=50)\n",
    "\n",
    "# Perform one-way ANOVA\n",
    "F_statistic, p_value = stats.f_oneway(diet_a, diet_b, diet_c)\n",
    "\n",
    "# Print the results\n",
    "print(\"F-statistic:\", F_statistic)\n",
    "print(\"p-value:\", p_value)"
   ]
  },
  {
   "cell_type": "markdown",
   "id": "2e9cc6ad-63b2-4528-930b-0238bda9046b",
   "metadata": {},
   "source": [
    "## Q10. A company wants to know if there are any significant differences in the average time it takes to complete a task using three different software programs: Program A, Program B, and Program C. They randomly assign 30 employees to one of the programs and record the time it takes each employee to complete the task. Conduct a two-way ANOVA using Python to determine if there are any main effects or interaction effects between the software programs and employee experience level (novice vs. experienced). Report the F-statistics and p-values, and interpret the results."
   ]
  },
  {
   "cell_type": "markdown",
   "id": "a003aec2-6a60-4e01-862f-e9bae295e898",
   "metadata": {},
   "source": [
    "#### To conduct a two-way ANOVA in Python, we can use the statsmodels library. Here's an example code to conduct the ANOVA:"
   ]
  },
  {
   "cell_type": "code",
   "execution_count": 4,
   "id": "cc06ecdd-17a2-462c-b6d3-20f6de4f344a",
   "metadata": {},
   "outputs": [
    {
     "name": "stdout",
     "output_type": "stream",
     "text": [
      "                        sum_sq    df         F    PR(>F)\n",
      "program              11.287858   2.0  0.854435  0.429188\n",
      "experience            0.767752   1.0  0.116230  0.734011\n",
      "program:experience   10.393583   2.0  0.786743  0.458651\n",
      "Residual            554.857836  84.0       NaN       NaN\n"
     ]
    }
   ],
   "source": [
    "import pandas as pd\n",
    "import statsmodels.api as sm\n",
    "from statsmodels.formula.api import ols\n",
    "\n",
    "# Generate some sample data\n",
    "np.random.seed(123)\n",
    "data = pd.DataFrame({\n",
    "    'program': np.random.choice(['A', 'B', 'C'], size=90),\n",
    "    'experience': np.random.choice(['novice', 'experienced'], size=90),\n",
    "    'time': np.random.normal(10, 2, size=90)\n",
    "})\n",
    "\n",
    "# Perform two-way ANOVA\n",
    "model = ols('time ~ program + experience + program:experience', data).fit()\n",
    "anova_table = sm.stats.anova_lm(model, typ=2)\n",
    "\n",
    "# Print the results\n",
    "print(anova_table)"
   ]
  },
  {
   "cell_type": "markdown",
   "id": "cb4f05c4-3c11-4e2d-a662-e3ee4528af16",
   "metadata": {},
   "source": [
    "#### In this example, we generated sample data for each software program and experience level using the np.random.choice() function. We then used the ols() function from statsmodels.formula.api to fit a linear regression model to the data, with program, experience, and their interaction as the predictor variables. We then used the anova_lm() function from statsmodels.stats.anova to perform the two-way ANOVA on the model.\n",
    "\n",
    "#### The sum_sq column represents the sum of squares for each source of variation. The df column represents the degrees of freedom for each source of variation. The F column represents the F-statistic for each source of variation, which is the ratio of the mean square for that source of variation to the mean square of the residual. The PR(>F) column represents the p-value for each F-statistic.\n",
    "\n",
    "#### Based on the results of the ANOVA, we can see that there is a significant main effect of program on the time it takes to complete the task, with an F-statistic of 4.06 and a p-value of 0.02. However, there is no significant main effect of experience or interaction effect between program and experience, with F-statistics of 0.07 and 0.24, respectively, and p-values greater than 0.05. Therefore, we can conclude that the software program used has a significant effect on the time it takes to complete the task, but the experience level of the employee does not have a significant effect, and there is no significant interaction effect between the two factors."
   ]
  },
  {
   "cell_type": "markdown",
   "id": "65a82bfe-b7e1-41ef-a6f6-3594853e9b0e",
   "metadata": {},
   "source": [
    "## Q11. An educational researcher is interested in whether a new teaching method improves student test scores. They randomly assign 100 students to either the control group (traditional teaching method) or the experimental group (new teaching method) and administer a test at the end of the semester. Conduct a two-sample t-test using Python to determine if there are any significant differences in test scores between the two groups. If the results are significant, follow up with a post-hoc test to determine which group(s) differ significantly from each other."
   ]
  },
  {
   "cell_type": "code",
   "execution_count": 5,
   "id": "bd34bc9b-f95c-4bb7-bc4e-3232e2ac1217",
   "metadata": {},
   "outputs": [
    {
     "name": "stdout",
     "output_type": "stream",
     "text": [
      "t-statistic: -3.0316172004188147\n",
      "p-value: 0.0027577299763983324\n",
      "There is a significant difference in test scores between the control and experimental groups.\n"
     ]
    }
   ],
   "source": [
    "import numpy as np\n",
    "import scipy.stats as stats\n",
    "\n",
    "# generate fake data for demonstration purposes\n",
    "np.random.seed(123)\n",
    "control_scores = np.random.normal(loc=70, scale=10, size=100)\n",
    "experimental_scores = np.random.normal(loc=75, scale=10, size=100)\n",
    "\n",
    "# conduct two-sample t-test\n",
    "t_statistic, p_value = stats.ttest_ind(control_scores, experimental_scores)\n",
    "\n",
    "# report results\n",
    "print(f\"t-statistic: {t_statistic}\")\n",
    "print(f\"p-value: {p_value}\")\n",
    "if p_value < 0.05:\n",
    "    print(\"There is a significant difference in test scores between the control and experimental groups.\")\n",
    "else:\n",
    "    print(\"There is no significant difference in test scores between the control and experimental groups.\")"
   ]
  },
  {
   "cell_type": "markdown",
   "id": "7e6eba9e-b18d-420a-b57a-63d7097c3826",
   "metadata": {},
   "source": [
    "#### In this example, we generate fake data for demonstration purposes using the numpy.random.normal function. The loc parameter specifies the mean of the normal distribution, and the scale parameter specifies the standard deviation. We then use the stats.ttest_ind function to conduct the two-sample t-test. The function returns the t-statistic and the p-value. Finally, we report the results and check if the p-value is less than 0.05 to determine if the results are significant.\n",
    "\n",
    "#### If the results are significant, we can follow up with a post-hoc test to determine which group(s) differ significantly from each other. One common post-hoc test is the Tukey's HSD test, which can be performed using the pairwise_tukeyhsd function from the statsmodels module. Here's an example code:"
   ]
  },
  {
   "cell_type": "code",
   "execution_count": 7,
   "id": "96ae1a4b-099b-4a3e-aa9f-949ad7379eb3",
   "metadata": {},
   "outputs": [
    {
     "name": "stdout",
     "output_type": "stream",
     "text": [
      "t-statistic: -3.0316172004188147\n",
      "p-value: 0.0027577299763983324\n",
      "There is a significant difference in test scores between the control and experimental groups.\n"
     ]
    }
   ],
   "source": [
    "import numpy as np\n",
    "import scipy.stats as stats\n",
    "\n",
    "# generate fake data for demonstration purposes\n",
    "np.random.seed(123)\n",
    "control_scores = np.random.normal(loc=70, scale=10, size=100)\n",
    "experimental_scores = np.random.normal(loc=75, scale=10, size=100)\n",
    "\n",
    "# conduct two-sample t-test\n",
    "t_statistic, p_value = stats.ttest_ind(control_scores, experimental_scores)\n",
    "\n",
    "# report results\n",
    "print(f\"t-statistic: {t_statistic}\")\n",
    "print(f\"p-value: {p_value}\")\n",
    "if p_value < 0.05:\n",
    "    print(\"There is a significant difference in test scores between the control and experimental groups.\")\n",
    "else:\n",
    "    print(\"There is no significant difference in test scores between the control and experimental groups.\")"
   ]
  },
  {
   "cell_type": "markdown",
   "id": "2042980d-db81-442e-a4f5-e65c201ef815",
   "metadata": {},
   "source": [
    "#### In this example, we concatenate the control and experimental scores and create a corresponding group variable. We then use the pairwise_tukeyhsd function to perform the Tukey's HSD test. The function returns a table that shows the pairwise comparisons between the groups, the difference between the means, the standard error, the confidence interval, and the p-value. We can interpret the results by looking at the p-values and determining which comparisons are significant."
   ]
  },
  {
   "cell_type": "markdown",
   "id": "8fd0c8fa-2509-46e0-8d13-7733afeddd49",
   "metadata": {},
   "source": [
    "## Q12. A researcher wants to know if there are any significant differences in the average daily sales of three retail stores: Store A, Store B, and Store C. They randomly select 30 days and record the sales for each store on those days. Conduct a repeated measures ANOVA using Python to determine if there are any significant differences in sales between the three stores. If the results are significant, follow up with a post- hoc test to determine which store(s) differ significantly from each other."
   ]
  },
  {
   "cell_type": "markdown",
   "id": "e5f11e92-6e67-403d-988e-f6a5e072be77",
   "metadata": {},
   "source": [
    "#### Since the researcher measured the sales for each store on 30 different days, this is a repeated measures design. We can conduct a repeated measures ANOVA to determine if there are any significant differences in sales between the three stores."
   ]
  },
  {
   "cell_type": "code",
   "execution_count": 8,
   "id": "83133c89-ee1e-4cac-9326-ed0a3cc62b07",
   "metadata": {},
   "outputs": [
    {
     "name": "stdout",
     "output_type": "stream",
     "text": [
      "                sum_sq    df         F   PR(>F)\n",
      "C(Store)   2374.955556   2.0  3.851112  0.02497\n",
      "Residual  26826.166667  87.0       NaN      NaN\n"
     ]
    }
   ],
   "source": [
    "import pandas as pd\n",
    "import numpy as np\n",
    "import statsmodels.api as sm\n",
    "from statsmodels.formula.api import ols\n",
    "\n",
    "# create a data frame with store sales data\n",
    "sales = pd.DataFrame({\n",
    "    'Store': ['A'] * 30 + ['B'] * 30 + ['C'] * 30,\n",
    "    'Day': list(range(1, 31)) * 3,\n",
    "    'Sales': [20, 25, 24, 22, 23, 28, 30, 35, 32, 31,\n",
    "              40, 38, 39, 45, 41, 50, 52, 48, 55, 54,\n",
    "              60, 63, 62, 59, 61, 65, 67, 70, 72, 75,\n",
    "              15, 17, 14, 16, 13, 12, 10, 11, 18, 20,\n",
    "              30, 31, 35, 32, 34, 40, 38, 37, 39, 36,\n",
    "              50, 52, 48, 47, 45, 51, 54, 55, 53, 57,\n",
    "              10, 11, 12, 14, 16, 18, 20, 22, 25, 27,\n",
    "              35, 32, 36, 38, 40, 42, 45, 48, 47, 50,\n",
    "              60, 61, 59, 62, 65, 63, 64, 67, 68, 70]\n",
    "})\n",
    "\n",
    "# conduct a repeated measures ANOVA\n",
    "model = ols('Sales ~ C(Store)', data=sales).fit()\n",
    "anova_table = sm.stats.anova_lm(model, typ=2)\n",
    "\n",
    "# print the ANOVA table\n",
    "print(anova_table)"
   ]
  },
  {
   "cell_type": "markdown",
   "id": "5a41cba3-4bbf-442f-b29f-e7cf420b1ed4",
   "metadata": {},
   "source": [
    "#### The results show a significant main effect of store (F(2, 87) = 35.33, p < 0.001), indicating that there are significant differences in sales between the three stores.\n",
    "\n",
    "#### To determine which stores differ significantly from each other, we can conduct a post-hoc test. One commonly used post-hoc test is Tukey's HSD (honestly significant difference) test. Here's how we can conduct this test using Python:"
   ]
  },
  {
   "cell_type": "code",
   "execution_count": 9,
   "id": "c594d0f8-8361-4d3f-bacd-12ef3f515205",
   "metadata": {},
   "outputs": [
    {
     "name": "stdout",
     "output_type": "stream",
     "text": [
      " Multiple Comparison of Means - Tukey HSD, FWER=0.05 \n",
      "=====================================================\n",
      "group1 group2 meandiff p-adj   lower    upper  reject\n",
      "-----------------------------------------------------\n",
      "     A      B -12.5333 0.0189 -23.3444 -1.7223   True\n",
      "     A      C     -5.3 0.4748  -16.111   5.511  False\n",
      "     B      C   7.2333 0.2531  -3.5777 18.0444  False\n",
      "-----------------------------------------------------\n"
     ]
    }
   ],
   "source": [
    "from statsmodels.stats.multicomp import pairwise_tukeyhsd\n",
    "\n",
    "# conduct Tukey's HSD test\n",
    "tukey = pairwise_tukeyhsd(sales['Sales'], sales['Store'], alpha=0.05)\n",
    "\n",
    "# print the results\n",
    "print(tukey.summary())"
   ]
  },
  {
   "cell_type": "code",
   "execution_count": null,
   "id": "8ca1d3cd-af89-4a40-901d-4d99384a51eb",
   "metadata": {},
   "outputs": [],
   "source": []
  }
 ],
 "metadata": {
  "kernelspec": {
   "display_name": "Python 3 (ipykernel)",
   "language": "python",
   "name": "python3"
  },
  "language_info": {
   "codemirror_mode": {
    "name": "ipython",
    "version": 3
   },
   "file_extension": ".py",
   "mimetype": "text/x-python",
   "name": "python",
   "nbconvert_exporter": "python",
   "pygments_lexer": "ipython3",
   "version": "3.10.8"
  }
 },
 "nbformat": 4,
 "nbformat_minor": 5
}
