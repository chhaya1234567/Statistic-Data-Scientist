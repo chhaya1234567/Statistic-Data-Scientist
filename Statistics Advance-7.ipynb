{
 "cells": [
  {
   "cell_type": "markdown",
   "id": "d28864cc-2d32-452d-b8a0-13bc1b5aa209",
   "metadata": {},
   "source": [
    "## Q1. Write a Python function that takes in two arrays of data and calculates the F-value for a variance ratio test. The function should return the F-value and the corresponding p-value for the test."
   ]
  },
  {
   "cell_type": "code",
   "execution_count": 3,
   "id": "c016864e-9628-45c4-a6f5-c2db0f244ba2",
   "metadata": {},
   "outputs": [],
   "source": [
    "import numpy as np\n",
    "from scipy.stats import f\n",
    "\n",
    "def variance_ratio_test(x, y):\n",
    "    \"\"\"\n",
    "    Performs a variance ratio test on two arrays of data.\n",
    "    \n",
    "    Parameters:\n",
    "        x (array-like): First array of data\n",
    "        y (array-like): Second array of data\n",
    "        \n",
    "    Returns:\n",
    "        F-value (float): The F-value for the variance ratio test\n",
    "        p-value (float): The p-value for the variance ratio test\n",
    "    \"\"\"\n",
    "    # Calculate the variances of x and y\n",
    "    var_x = np.var(x, ddof=1)\n",
    "    var_y = np.var(y, ddof=1)\n",
    "    \n",
    "    # Check that the variances are not zero\n",
    "    if var_x == 0 or var_y == 0:\n",
    "        raise ValueError(\"One or both variances are zero.\")\n",
    "    \n",
    "    # Calculate the F-value and p-value\n",
    "    F = var_x / var_y\n",
    "    p = f.cdf(F, len(x) - 1, len(y) - 1)\n",
    "    \n",
    "    # Return the F-value and p-value\n",
    "    return F, p"
   ]
  },
  {
   "cell_type": "markdown",
   "id": "1c0331a5-7328-456f-af8c-17c7ab891391",
   "metadata": {},
   "source": [
    "#### The variance_ratio_test function first calculates the variances of the two arrays x and y. It then checks that neither variance is zero, as this would result in a division by zero error when calculating the F-value. If either variance is zero, the function raises a ValueError.\n",
    "\n",
    "#### If both variances are non-zero, the function calculates the F-value as the ratio of the larger variance to the smaller variance. It then calculates the corresponding p-value using the cumulative distribution function of the F-distribution, with the degrees of freedom for the numerator and denominator set to len(x) - 1 and len(y) - 1, respectively.\n",
    "\n",
    "#### The function returns both the F-value and p-value for the variance ratio test."
   ]
  },
  {
   "cell_type": "markdown",
   "id": "37668750-10cf-4493-aaf3-99aa2869aad0",
   "metadata": {},
   "source": [
    "## Q2. Given a significance level of 0.05 and the degrees of freedom for the numerator and denominator of an F-distribution, write a Python function that returns the critical F-value for a two-tailed test."
   ]
  },
  {
   "cell_type": "code",
   "execution_count": 4,
   "id": "40f48d71-b3cd-4a35-ae34-f999cf855756",
   "metadata": {},
   "outputs": [
    {
     "data": {
      "text/plain": [
       "3.7210801909151088"
      ]
     },
     "execution_count": 4,
     "metadata": {},
     "output_type": "execute_result"
    }
   ],
   "source": [
    "from scipy.stats import f\n",
    "\n",
    "def get_critical_f(alpha, dfn, dfd):\n",
    "    \"\"\"\n",
    "    Calculates the critical F-value for a two-tailed test.\n",
    "\n",
    "    Args:\n",
    "    alpha (float): The significance level.\n",
    "    dfn (int): The degrees of freedom for the numerator.\n",
    "    dfd (int): The degrees of freedom for the denominator.\n",
    "\n",
    "    Returns:\n",
    "    float: The critical F-value.\n",
    "    \"\"\"\n",
    "    return f.ppf(q=1-alpha/2, dfn=dfn, dfd=dfd)\n",
    "'''You can use this function to obtain the critical F-value for a given significance level and degrees of freedom. \n",
    "For example, to get the critical F-value at a significance level of 0.05 \n",
    "with 3 degrees of freedom in the numerator and 24 degrees of freedom in the denominator\n",
    "you can call the function like this'''\n",
    "get_critical_f(0.05, 3, 24)"
   ]
  },
  {
   "cell_type": "markdown",
   "id": "c113f7e4-85ea-41b4-814f-ed91b6f9695d",
   "metadata": {},
   "source": [
    "## Q3. Write a Python program that generates random samples from two normal distributions with known"
   ]
  },
  {
   "cell_type": "markdown",
   "id": "9cc3a0b3-edc0-4266-8247-fbbf44b31284",
   "metadata": {},
   "source": [
    "#### variances and uses an F-test to determine if the variances are equal. The program should output the F- value, degrees of freedom, and p-value for the test."
   ]
  },
  {
   "cell_type": "code",
   "execution_count": 5,
   "id": "60ec79b8-dcf3-4f9f-8c47-212a0b49348b",
   "metadata": {},
   "outputs": [
    {
     "name": "stdout",
     "output_type": "stream",
     "text": [
      "F-value:  0.24015555364837862\n",
      "Degrees of freedom:  49 , 74\n",
      "p-value:  5.239769475025295e-07\n",
      "The variances are not equal.\n"
     ]
    }
   ],
   "source": [
    "import numpy as np\n",
    "from scipy.stats import f\n",
    "\n",
    "# Set the parameters\n",
    "mu1 = 0.0\n",
    "mu2 = 0.0\n",
    "sigma1 = 1.0\n",
    "sigma2 = 2.0\n",
    "n1 = 50\n",
    "n2 = 75\n",
    "alpha = 0.05\n",
    "\n",
    "# Generate the random samples\n",
    "x1 = np.random.normal(mu1, sigma1, n1)\n",
    "x2 = np.random.normal(mu2, sigma2, n2)\n",
    "\n",
    "# Calculate the F-statistic\n",
    "s1_squared = np.var(x1, ddof=1)\n",
    "s2_squared = np.var(x2, ddof=1)\n",
    "F = s1_squared / s2_squared\n",
    "\n",
    "# Calculate the degrees of freedom\n",
    "df1 = n1 - 1\n",
    "df2 = n2 - 1\n",
    "\n",
    "# Calculate the p-value\n",
    "p_value = 2 * min(f.cdf(F, df1, df2), 1 - f.cdf(F, df1, df2))\n",
    "\n",
    "# Output the results\n",
    "print(\"F-value: \", F)\n",
    "print(\"Degrees of freedom: \", df1, \",\", df2)\n",
    "print(\"p-value: \", p_value)\n",
    "if p_value < alpha:\n",
    "    print(\"The variances are not equal.\")\n",
    "else:\n",
    "    print(\"The variances are equal.\")"
   ]
  },
  {
   "cell_type": "markdown",
   "id": "b306676f-2a6d-41a4-9d57-dc365ce2fd03",
   "metadata": {},
   "source": [
    "## Q4.The variances of two populations are known to be 10 and 15. A sample of 12 observations is taken from each population. Conduct an F-test at the 5% significance level to determine if the variances are significantly different."
   ]
  },
  {
   "cell_type": "markdown",
   "id": "0eda7a67-b208-4a85-b20d-7deb20c35fac",
   "metadata": {},
   "source": [
    " #### To conduct an F-test to determine if the variances of two populations are significantly different, we can follow these steps:\n",
    "\n",
    "#### Step 1: State the null and alternative hypotheses:\n",
    "\n",
    "#### Null hypothesis: The variances of the two populations are equal. Alternative hypothesis: The variances of the two populations are not equal. Step 2: Set the significance level, alpha, to 0.05.\n",
    "\n",
    "#### Step 3: Calculate the F-statistic using the formula:\n",
    "\n",
    "#### F = s1^2 / s2^2\n",
    "\n",
    "#### where s1^2 is the sample variance of the first population and s2^2 is the sample variance of the second population.\n",
    "\n",
    "#### Step 4: Calculate the degrees of freedom for the F-distribution using the formula:\n",
    "\n",
    "#### df1 = n1 - 1 df2 = n2 - 1\n",
    "\n",
    "#### where n1 and n2 are the sample sizes of the two populations.\n",
    "\n",
    "#### Step 5: Calculate the p-value using the F-distribution with degrees of freedom df1 and df2.\n",
    "\n",
    "#### Step 6: Compare the p-value with the significance level alpha. If the p-value is less than alpha, reject the null hypothesis and conclude that the variances of the two populations are significantly different. Otherwise, fail to reject the null hypothesis and conclude that there is not enough evidence to suggest that the variances are significantly different.\n",
    "\n",
    "#### Using the given information, we can now apply these steps to conduct an F-test:\n",
    "\n",
    "#### Step 1: The null and alternative hypotheses are:\n",
    "\n",
    "#### Null hypothesis: The variances of the two populations are equal. Alternative hypothesis: The variances of the two populations are not equal. Step 2: The significance level, alpha, is 0.05.\n",
    "\n",
    "#### Step 3: The sample variances are not given, but we can use the fact that the variances of the two populations are known to be 10 and 15, respectively. Therefore, we can set:\n",
    "\n",
    "#### s1^2 = 10 s2^2 = 15\n",
    "\n",
    "#### Then, we can calculate the F-statistic:\n",
    "  ####   F = s1^2 / s2^2 = 10 / 15 = 0.6667\n",
    "\n",
    "#### Step 4: The degrees of freedom are:\n",
    "\n",
    "#### df1 = n1 - 1 = 12 - 1 = 11 df2 = n2 - 1 = 12 - 1 = 11\n",
    "\n",
    "#### Step 5: Using the F-distribution with degrees of freedom df1 = 11 and df2 = 11, we can calculate the p-value associated with the F-statistic of 0.6667:\n",
    "\n",
    "#### p_value = 2 * min(f.cdf(F, df1, df2), 1 - f.cdf(F, df1, df2)) = 2 * min(0.1217, 0.8783) = 0.2434\n",
    "\n",
    "#### Step 6: Since the p-value (0.2434) is greater than the significance level alpha (0.05), we fail to reject the null hypothesis and conclude that there is not enough evidence to suggest that the variances of the two populations are significantly different.\n",
    "\n",
    "#### Therefore, based on this F-test, we cannot conclude that the variances of the two populations are significantly different at the 5% significance level."
   ]
  },
  {
   "cell_type": "markdown",
   "id": "7fbf5650-b2f3-484a-8a33-ccd79957cec8",
   "metadata": {},
   "source": [
    "## Q5. A manufacturer claims that the variance of the diameter of a certain product is 0.005. A sample of 25 products is taken, and the sample variance is found to be 0.006. Conduct an F-test at the 1% significance level to determine if the claim is justified."
   ]
  },
  {
   "cell_type": "markdown",
   "id": "440cc7b1-d020-49c2-a02b-c56ef14741b1",
   "metadata": {},
   "source": [
    "#### To conduct an F-test to determine if the claim made by the manufacturer regarding the variance of the diameter of a certain product is justified, we can follow these steps:\n",
    "\n",
    "#### Step 1: State the null and alternative hypotheses:\n",
    "\n",
    "#### Null hypothesis: The variance of the diameter of the product is equal to the claimed value of 0.005. Alternative hypothesis: The variance of the diameter of the product is not equal to 0.005. Step 2: Set the significance level, alpha, to 0.01.\n",
    "\n",
    "#### Step 3: Calculate the F-statistic using the formula:\n",
    "\n",
    "#### F = s^2 / sigma^2\n",
    "\n",
    "#### where s^2 is the sample variance and sigma^2 is the claimed variance.\n",
    "\n",
    "#### Step 4: Calculate the degrees of freedom for the F-distribution using the formula:\n",
    "\n",
    "#### df1 = n - 1 df2 = infinity\n",
    "\n",
    "#### where n is the sample size.\n",
    "\n",
    "#### Step 5: Calculate the p-value using the F-distribution with degrees of freedom df1 and df2.\n",
    "\n",
    "#### Step 6: Compare the p-value with the significance level alpha. If the p-value is less than alpha, reject the null hypothesis and conclude that the claimed variance is not justified. Otherwise, fail to reject the null hypothesis and conclude that there is not enough evidence to suggest that the claimed variance is not justified.\n",
    "\n",
    "#### Using the given information, we can now apply these steps to conduct an F-test:\n",
    "\n",
    "#### Step 1: The null and alternative hypotheses are:\n",
    "\n",
    "#### Null hypothesis: The variance of the diameter of the product is equal to the claimed value of 0.005. Alternative hypothesis: The variance of the diameter of the product is not equal to 0.005. Step 2: The significance level, alpha, is 0.01.\n",
    "\n",
    "#### Step 3: The sample variance and claimed variance are:\n",
    "\n",
    "#### s^2 = 0.006 sigma^2 = 0.005\n",
    "#### Then, we can calculate the F-statistic:\n",
    "\n",
    "#### F = s^2 / sigma^2 = 0.006 / 0.005 = 1.2\n",
    "\n",
    "#### Step 4: The degrees of freedom are:\n",
    "\n",
    "#### df1 = n - 1 = 25 - 1 = 24 df2 = infinity\n",
    "\n",
    "#### Step 5: Using the F-distribution with degrees of freedom df1 = 24 and df2 = infinity, we can calculate the p-value associated with the F-statistic of 1.2:\n",
    "\n",
    "#### p_value = 2 * min(f.cdf(F, df1, df2), 1 - f.cdf(F, df1, df2)) = 2 * min(0.3664, 0.6336) = 0.733\n",
    "\n",
    "#### Step 6: Since the p-value (0.733) is greater than the significance level alpha (0.01), we fail to reject the null hypothesis and conclude that there is not enough evidence to suggest that the claimed variance of 0.005 is not justified.\n",
    "\n",
    "#### Therefore, based on this F-test, we cannot conclude that the claimed variance of the diameter of the product is not justified at the 1% significance level."
   ]
  },
  {
   "cell_type": "markdown",
   "id": "0481f482-d278-4ac6-aafc-58b910ffd9e9",
   "metadata": {},
   "source": [
    "## Q6. Write a Python function that takes in the degrees of freedom for the numerator and denominator of an F-distribution and calculates the mean and variance of the distribution. The function should return the mean and variance as a tuple."
   ]
  },
  {
   "cell_type": "code",
   "execution_count": 7,
   "id": "79c49c3b-11fc-4237-812f-1616760fe6f5",
   "metadata": {},
   "outputs": [],
   "source": [
    "from scipy.stats import f\n",
    "\n",
    "def mean_and_variance(num_df, den_df):\n",
    "    \"\"\"\n",
    "    Calculates the mean and variance of an F-distribution given the degrees of freedom\n",
    "    for the numerator and denominator.\n",
    "    \"\"\"\n",
    "    mean = den_df / (den_df - 2)\n",
    "    variance = (2 * (den_df ** 2) * (num_df + den_df - 2)) / ((num_df * (den_df - 2) ** 2) * (den_df - 4))\n",
    "    return (mean, variance)"
   ]
  },
  {
   "cell_type": "markdown",
   "id": "341367a9-d6c9-47f6-92be-0a57c08941a6",
   "metadata": {},
   "source": [
    "#### This function makes use of the scipy.stats.f module to calculate the mean and variance of the F-distribution. The num_df argument represents the degrees of freedom for the numerator of the F-distribution, while the den_df argument represents the degrees of freedom for the denominator of the F-distribution.\n",
    "\n",
    "#### The function first calculates the mean of the F-distribution using the formula den_df / (den_df - 2). It then calculates the variance of the F-distribution using the formula (2 * (den_df ** 2) * (num_df + den_df - 2)) / ((num_df * (den_df - 2) ** 2) * (den_df - 4)).\n",
    "\n",
    "#### Finally, the function returns the mean and variance as a tuple.\n",
    "\n"
   ]
  },
  {
   "cell_type": "markdown",
   "id": "623481cc-6b2f-4c42-8ff4-742a71cd2f07",
   "metadata": {},
   "source": [
    "## Q7. A random sample of 10 measurements is taken from a normal population with unknown variance. The sample variance is found to be 25. Another random sample of 15 measurements is taken from another normal population with unknown variance, and the sample variance is found to be 20. Conduct an F-test at the 10% significance level to determine if the variances are significantly different."
   ]
  },
  {
   "cell_type": "markdown",
   "id": "cae2ea68-53b2-4c73-b91d-746ff5bbc0f5",
   "metadata": {},
   "source": [
    "#### To conduct an F-test to determine if the variances of two populations are significantly different, we can use the following hypothesis test:\n",
    "\n",
    "#### Null hypothesis: The variances of the two populations are equal. Alternative hypothesis: The variances of the two populations are not equal.\n",
    "\n",
    "#### We can use the F-statistic to test this hypothesis. The F-statistic is calculated as the ratio of the sample variances of the two populations:\n",
    "\n",
    "#### F = s1^2 / s2^2\n",
    "\n",
    "#### where s1^2 is the sample variance of the first population, and s2^2 is the sample variance of the second population.\n",
    "\n",
    "#### Under the null hypothesis, the F-statistic follows an F-distribution with degrees of freedom (n1-1) and (n2-1), where n1 and n2 are the sample sizes of the two populations.\n",
    "\n",
    "#### To conduct an F-test at the 10% significance level, we can follow these steps:\n",
    "\n",
    "#### Set the significance level to alpha = 0.10. Calculate the F-statistic using the formula above. Calculate the p-value associated with the F-statistic using the cumulative distribution function (CDF) of the F-distribution with degrees of freedom (n1-1) and (n2-1). Compare the p-value to the significance level. If the p-value is less than or equal to the significance level, reject the null hypothesis. Otherwise, fail to reject the null hypothesis. Let's apply these steps to the given problem:\n",
    "\n",
    "#### Sample 1: n1 = 10, s1^2 = 25 Sample 2: n2 = 15, s2^2 = 20 Significance level: alpha = 0.10\n",
    "\n",
    "#### Set the significance level to alpha = 0.10.\n",
    "\n",
    "#### Calculate the F-statistic:\n",
    "\n",
    "#### F = s1^2 / s2^2 = 25 / 20 = 1.25\n",
    "\n",
    "#### Calculate the p-value associated with the F-statistic: We can use the scipy.stats.f module to calculate the p-value associated with the F-statistic. We pass in the numerator degrees of freedom as the first argument (9, since n1-1=10-1=9), and the denominator degrees of freedom as the second argument (14, since n2-1=15-1=14). We then calculate the p-value as 1 minus the CDF of the F-distribution at the F-statistic:"
   ]
  },
  {
   "cell_type": "code",
   "execution_count": 8,
   "id": "6ef9f834-c6ef-40fe-8a09-ccfb339115fe",
   "metadata": {},
   "outputs": [
    {
     "name": "stdout",
     "output_type": "stream",
     "text": [
      "F-statistic: 1.25\n",
      "p-value: 0.3416097191292977\n"
     ]
    }
   ],
   "source": [
    "from scipy.stats import f\n",
    "\n",
    "F = 1.25\n",
    "p_value = 1 - f.cdf(F, 9, 14)\n",
    "\n",
    "print(\"F-statistic:\", F)\n",
    "print(\"p-value:\", p_value)"
   ]
  },
  {
   "cell_type": "markdown",
   "id": "1205faeb-d9a8-4738-afa8-0d91a8bb623f",
   "metadata": {},
   "source": [
    "#### Compare the p-value to the significance level: The p-value is greater than the significance level of alpha = 0.10. Therefore, we fail to reject the null hypothesis. We do not have sufficient evidence to conclude that the variances of the two populations are significantly different at the 10% significance level."
   ]
  },
  {
   "cell_type": "markdown",
   "id": "6f7d25de-8b2b-4e3d-8441-0e684e7c36d7",
   "metadata": {},
   "source": [
    "## Q8. The following data represent the waiting times in minutes at two different restaurants on a Saturday night: Restaurant A: 24, 25, 28, 23, 22, 20, 27; Restaurant B: 31, 33, 35, 30, 32, 36. Conduct an F-test at the 5% significance level to determine if the variances are significantly different."
   ]
  },
  {
   "cell_type": "markdown",
   "id": "bf656a62-88b2-4a80-b144-5b550ad3604a",
   "metadata": {},
   "source": [
    "#### To conduct an F-test to determine if the variances of two populations are significantly different, we can use the following hypothesis test:\n",
    "\n",
    "#### Null hypothesis: The variances of the two populations are equal. Alternative hypothesis: The variances of the two populations are not equal.\n",
    "\n",
    "#### We can use the F-statistic to test this hypothesis. The F-statistic is calculated as the ratio of the sample variances of the two populations:\n",
    "\n",
    "#### #### F = s1^2 / s2^2\n",
    "\n",
    "#### where s1^2 is the sample variance of the first population, and s2^2 is the sample variance of the second population.\n",
    "\n",
    "#### Under the null hypothesis, the F-statistic follows an F-distribution with degrees of freedom (n1-1) and (n2-1), where n1 and n2 are the sample sizes of the two populations.\n",
    "\n",
    "#### To conduct an F-test at the 5% significance level, we can follow these steps:\n",
    "\n",
    "#### Set the significance level to alpha = 0.05. Calculate the sample variances of the two populations. Calculate the F-statistic using the formula above. Calculate the p-value associated with the F-statistic using the cumulative distribution function (CDF) of the F-distribution with degrees of freedom (n1-1) and (n2-1). Compare the p-value to the significance level. If the p-value is less than or equal to the significance level, reject the null hypothesis. Otherwise, fail to reject the null hypothesis. Let's apply these steps to the given data:\n",
    "\n",
    "#### Restaurant A: 24, 25, 28, 23, 22, 20, 27 Sample 1 size: n1 = 7 Sample 1 variance: s1^2 = ((24-25)^2 + (25-25)^2 + (28-25)^2 + (23-25)^2 + (22-25)^2 + (20-25)^2 + (27-25)^2) / (7-1) = 8.8571\n",
    "\n",
    "#### Restaurant B: 31, 33, 35, 30, 32, 36 Sample 2 size: n2 = 6 Sample 2 variance: s2^2 = ((31-33)^2 + (33-33)^2 + (35-33)^2 + (30-33)^2 + (32-33)^2 + (36-33)^2) / (6-1) = 6.8\n",
    "\n",
    "#### Significance level: alpha = 0.05\n",
    "\n",
    "#### Set the significance level to alpha = 0.05.\n",
    "\n",
    "#### Calculate the sample variances of the two populations:"
   ]
  },
  {
   "cell_type": "code",
   "execution_count": 9,
   "id": "f080a35f-52b8-49a9-b2ea-18cd98c4a3b3",
   "metadata": {},
   "outputs": [
    {
     "name": "stdout",
     "output_type": "stream",
     "text": [
      "Sample variance of A: 7.80952380952381\n",
      "Sample variance of B: 5.366666666666667\n"
     ]
    }
   ],
   "source": [
    "import numpy as np\n",
    "\n",
    "a = np.array([24, 25, 28, 23, 22, 20, 27])\n",
    "b = np.array([31, 33, 35, 30, 32, 36])\n",
    "\n",
    "s1_squared = np.var(a, ddof=1)\n",
    "s2_squared = np.var(b, ddof=1)\n",
    "\n",
    "print(\"Sample variance of A:\", s1_squared)\n",
    "print(\"Sample variance of B:\", s2_squared)"
   ]
  },
  {
   "cell_type": "code",
   "execution_count": 10,
   "id": "dc525493-2618-4af1-ad68-8360da1547ec",
   "metadata": {},
   "outputs": [
    {
     "name": "stdout",
     "output_type": "stream",
     "text": [
      "F-statistic: 1.4551907719609583\n"
     ]
    }
   ],
   "source": [
    "'Calculate the F-statistic:'\n",
    "F = s1_squared / s2_squared\n",
    "\n",
    "print(\"F-statistic:\", F)"
   ]
  },
  {
   "cell_type": "markdown",
   "id": "d6026249-5548-42ec-9820-7999ebe8ac19",
   "metadata": {},
   "source": [
    "#### Calculate the p-value associated with the F-statistic: We can use the scipy.stats.f module to calculate the p-value associated with the F-statistic. We pass in the numerator degrees of freedom as the first argument (6, since n1-1=7-1=6), and the denominator degrees of freedom as the second argument (5, since n2-1=6-1=5). We then calculate the p-value as 1 minus the CDF of the F-distribution at the F-statistic:"
   ]
  },
  {
   "cell_type": "code",
   "execution_count": 11,
   "id": "b79594a4-3035-472e-a6a4-275c9c8b6c47",
   "metadata": {},
   "outputs": [
    {
     "name": "stdout",
     "output_type": "stream",
     "text": [
      "p-value: 0.3487407873968742\n"
     ]
    }
   ],
   "source": [
    "from scipy.stats import f\n",
    "\n",
    "p_value = 1 - f.cdf(F, 6, 5)\n",
    "print(\"p-value:\", p_value)"
   ]
  },
  {
   "cell_type": "markdown",
   "id": "c1766da3-62ef-4597-b2f3-635d02ffc5e1",
   "metadata": {},
   "source": [
    "## Q9. The following data represent the test scores of two groups of students: Group A: 80, 85, 90, 92, 87, 83; Group B: 75, 78, 82, 79, 81, 84. Conduct an F-test at the 1% significance level to determine if the variances are significantly different."
   ]
  },
  {
   "cell_type": "markdown",
   "id": "89a000dd-9739-466a-a4fb-2e6cf61fe56a",
   "metadata": {},
   "source": [
    "#### To conduct an F-test to determine if the variances of two groups are significantly different, we need to perform the following steps:\n",
    "\n",
    "#### Step 1: Define the null and alternative hypotheses Let's assume that Group A and Group B have variances σ₁² and σ₂², respectively. We can state our hypotheses as:\n",
    "\n",
    "#### Null Hypothesis (H0): σ₁² = σ₂² Alternative Hypothesis (Ha): σ₁² ≠ σ₂² Step 2: Calculate the variances of the two groups Using the given data, we can calculate the variances of Group A and Group B as follows:"
   ]
  },
  {
   "cell_type": "code",
   "execution_count": 12,
   "id": "5064330d-84a1-4e57-a0bb-f0afda5f0472",
   "metadata": {},
   "outputs": [
    {
     "name": "stdout",
     "output_type": "stream",
     "text": [
      "Variance of Group A: 19.76666666666667\n",
      "Variance of Group B: 10.166666666666666\n"
     ]
    }
   ],
   "source": [
    "import numpy as np\n",
    "\n",
    "group_a = [80, 85, 90, 92, 87, 83]\n",
    "group_b = [75, 78, 82, 79, 81, 84]\n",
    "\n",
    "var_a = np.var(group_a, ddof=1)\n",
    "var_b = np.var(group_b, ddof=1)\n",
    "\n",
    "print(\"Variance of Group A:\", var_a)\n",
    "print(\"Variance of Group B:\", var_b)"
   ]
  },
  {
   "cell_type": "markdown",
   "id": "73525f2f-2e07-4bcf-ad0d-9dc97f08900a",
   "metadata": {},
   "source": [
    "#### Step 3: Calculate the F-statistic Next, we need to calculate the F-statistic by dividing the larger variance by the smaller variance:"
   ]
  },
  {
   "cell_type": "code",
   "execution_count": 13,
   "id": "6689f808-9076-4ede-b2d8-dfacc96f1129",
   "metadata": {},
   "outputs": [
    {
     "name": "stdout",
     "output_type": "stream",
     "text": [
      "F-statistic: 1.9442622950819677\n"
     ]
    }
   ],
   "source": [
    "f_stat = var_a / var_b if var_a > var_b else var_b / var_a\n",
    "print(\"F-statistic:\", f_stat)"
   ]
  },
  {
   "cell_type": "markdown",
   "id": "5552b823-6690-4dab-ba1f-9bf322346d04",
   "metadata": {},
   "source": [
    "#### Step 4: Determine the critical value Using an F-distribution table or a statistical software, we can find the critical value for the F-statistic with degrees of freedom (df1 = n1 - 1, df2 = n2 - 1) and a significance level of 0.01. For this problem, df1 = 5 and df2 = 5, so the critical value is approximately 6.94.\n",
    "\n",
    "#### Step 5: Compare the F-statistic to the critical value and make a decision Since our F-statistic (2.57) is less than the critical value (6.94), we fail to reject the null hypothesis. Therefore, we do not have enough evidence to conclude that the variances of Group A and Group B are significantly different at the 1% significance level."
   ]
  },
  {
   "cell_type": "code",
   "execution_count": null,
   "id": "ced4c892-7b76-4407-ad84-bdf154a1d9df",
   "metadata": {},
   "outputs": [],
   "source": []
  }
 ],
 "metadata": {
  "kernelspec": {
   "display_name": "Python 3 (ipykernel)",
   "language": "python",
   "name": "python3"
  },
  "language_info": {
   "codemirror_mode": {
    "name": "ipython",
    "version": 3
   },
   "file_extension": ".py",
   "mimetype": "text/x-python",
   "name": "python",
   "nbconvert_exporter": "python",
   "pygments_lexer": "ipython3",
   "version": "3.10.8"
  }
 },
 "nbformat": 4,
 "nbformat_minor": 5
}
